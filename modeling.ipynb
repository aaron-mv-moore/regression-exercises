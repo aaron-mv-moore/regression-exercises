{
 "cells": [
  {
   "cell_type": "markdown",
   "id": "2392c79a",
   "metadata": {},
   "source": [
    "# Imports"
   ]
  },
  {
   "cell_type": "code",
   "execution_count": 1,
   "id": "3e58eb4b",
   "metadata": {},
   "outputs": [],
   "source": [
    "# tab data\n",
    "import pandas as pd\n",
    "import numpy as np\n",
    "\n",
    "# data and prep\n",
    "from wrangle import wrangle_zillow\n",
    "from explore import determine_variable_type\n",
    "from preprocess import scale_data\n",
    "\n",
    "# data viz\n",
    "import matplotlib.pyplot as plt\n",
    "\n",
    "# stats and modeling needs\n",
    "from scipy import stats\n",
    "from sklearn.metrics import mean_squared_error\n",
    "from sklearn.linear_model import LinearRegression, LassoLars, TweedieRegressor\n",
    "from sklearn.preprocessing import PolynomialFeatures\n",
    "\n",
    "from sklearn.preprocessing import MinMaxScaler, RobustScaler, StandardScaler\n",
    "\n",
    "import warnings\n",
    "warnings.filterwarnings(\"ignore\")"
   ]
  },
  {
   "cell_type": "markdown",
   "id": "aede24ec",
   "metadata": {},
   "source": [
    "# Prepare Data"
   ]
  },
  {
   "cell_type": "code",
   "execution_count": 2,
   "id": "e29a39f1",
   "metadata": {},
   "outputs": [],
   "source": [
    "# getting data\n",
    "train, validate, test = wrangle_zillow()"
   ]
  },
  {
   "cell_type": "code",
   "execution_count": 3,
   "id": "a826d2d0",
   "metadata": {},
   "outputs": [
    {
     "data": {
      "text/html": [
       "<div>\n",
       "<style scoped>\n",
       "    .dataframe tbody tr th:only-of-type {\n",
       "        vertical-align: middle;\n",
       "    }\n",
       "\n",
       "    .dataframe tbody tr th {\n",
       "        vertical-align: top;\n",
       "    }\n",
       "\n",
       "    .dataframe thead th {\n",
       "        text-align: right;\n",
       "    }\n",
       "</style>\n",
       "<table border=\"1\" class=\"dataframe\">\n",
       "  <thead>\n",
       "    <tr style=\"text-align: right;\">\n",
       "      <th></th>\n",
       "      <th>beds</th>\n",
       "      <th>baths</th>\n",
       "      <th>square_feet</th>\n",
       "      <th>tax_value</th>\n",
       "      <th>year_built</th>\n",
       "      <th>tax_amount</th>\n",
       "      <th>fips</th>\n",
       "    </tr>\n",
       "  </thead>\n",
       "  <tbody>\n",
       "    <tr>\n",
       "      <th>9100</th>\n",
       "      <td>4.0</td>\n",
       "      <td>3.0</td>\n",
       "      <td>3190.0</td>\n",
       "      <td>815334.0</td>\n",
       "      <td>1979.0</td>\n",
       "      <td>8698.22</td>\n",
       "      <td>6059.0</td>\n",
       "    </tr>\n",
       "    <tr>\n",
       "      <th>1246696</th>\n",
       "      <td>4.0</td>\n",
       "      <td>2.0</td>\n",
       "      <td>1292.0</td>\n",
       "      <td>270136.0</td>\n",
       "      <td>1965.0</td>\n",
       "      <td>3174.66</td>\n",
       "      <td>6059.0</td>\n",
       "    </tr>\n",
       "    <tr>\n",
       "      <th>485071</th>\n",
       "      <td>3.0</td>\n",
       "      <td>2.0</td>\n",
       "      <td>1712.0</td>\n",
       "      <td>133228.0</td>\n",
       "      <td>1976.0</td>\n",
       "      <td>1604.10</td>\n",
       "      <td>6111.0</td>\n",
       "    </tr>\n",
       "    <tr>\n",
       "      <th>438063</th>\n",
       "      <td>4.0</td>\n",
       "      <td>3.0</td>\n",
       "      <td>2565.0</td>\n",
       "      <td>703483.0</td>\n",
       "      <td>1988.0</td>\n",
       "      <td>8346.21</td>\n",
       "      <td>6037.0</td>\n",
       "    </tr>\n",
       "    <tr>\n",
       "      <th>1528007</th>\n",
       "      <td>4.0</td>\n",
       "      <td>2.5</td>\n",
       "      <td>2463.0</td>\n",
       "      <td>647208.0</td>\n",
       "      <td>1966.0</td>\n",
       "      <td>6615.28</td>\n",
       "      <td>6059.0</td>\n",
       "    </tr>\n",
       "  </tbody>\n",
       "</table>\n",
       "</div>"
      ],
      "text/plain": [
       "         beds  baths  square_feet  tax_value year_built  tax_amount    fips\n",
       "9100      4.0    3.0       3190.0   815334.0     1979.0     8698.22  6059.0\n",
       "1246696   4.0    2.0       1292.0   270136.0     1965.0     3174.66  6059.0\n",
       "485071    3.0    2.0       1712.0   133228.0     1976.0     1604.10  6111.0\n",
       "438063    4.0    3.0       2565.0   703483.0     1988.0     8346.21  6037.0\n",
       "1528007   4.0    2.5       2463.0   647208.0     1966.0     6615.28  6059.0"
      ]
     },
     "execution_count": 3,
     "metadata": {},
     "output_type": "execute_result"
    }
   ],
   "source": [
    "train.head()"
   ]
  },
  {
   "cell_type": "code",
   "execution_count": 4,
   "id": "5c6511c8",
   "metadata": {},
   "outputs": [],
   "source": [
    "ex, cat_cols, num_cols = determine_variable_type(train, n_unique=15)"
   ]
  },
  {
   "cell_type": "code",
   "execution_count": 5,
   "id": "656fbc2e",
   "metadata": {},
   "outputs": [
    {
     "data": {
      "text/plain": [
       "['square_feet', 'tax_value', 'tax_amount']"
      ]
     },
     "execution_count": 5,
     "metadata": {},
     "output_type": "execute_result"
    }
   ],
   "source": [
    "# only use sqaure_feet and tax_amount\n",
    "num_cols"
   ]
  },
  {
   "cell_type": "code",
   "execution_count": 6,
   "id": "6860f983",
   "metadata": {},
   "outputs": [],
   "source": [
    "# removing the target\n",
    "num_cols.remove('tax_value')"
   ]
  },
  {
   "cell_type": "code",
   "execution_count": 7,
   "id": "362c3524",
   "metadata": {},
   "outputs": [],
   "source": [
    "# xtrain, ytrain\n",
    "X_train = train[num_cols]\n",
    "y_train = train[['tax_value']]\n",
    "\n",
    "# xvalidate, yvalidate\n",
    "X_validate = validate[num_cols]\n",
    "y_validate = validate[['tax_value']]\n",
    "\n",
    "# xtest, ytest\n",
    "X_test = test[num_cols]\n",
    "y_test = test[['tax_value']]"
   ]
  },
  {
   "cell_type": "code",
   "execution_count": 8,
   "id": "af37d31b",
   "metadata": {},
   "outputs": [
    {
     "data": {
      "image/png": "[encoded data removed]",
      "text/plain": [
       "<Figure size 640x480 with 1 Axes>"
      ]
     },
     "metadata": {},
     "output_type": "display_data"
    }
   ],
   "source": [
    "plt.hist(y_train, ec='black')\n",
    "plt.xlabel('Tax Value')\n",
    "plt.ylabel('Count of Properties')\n",
    "plt.show()"
   ]
  },
  {
   "cell_type": "markdown",
   "id": "a43d35ba",
   "metadata": {},
   "source": [
    "# Modeling"
   ]
  },
  {
   "cell_type": "code",
   "execution_count": 9,
   "id": "6ca1c76b",
   "metadata": {},
   "outputs": [],
   "source": [
    "X_train_scaled, X_validate_scaled, X_test_scaled = scale_data(X_train, num_cols, 'minmax', X_validate=X_validate, X_test=X_test)"
   ]
  },
  {
   "cell_type": "code",
   "execution_count": null,
   "id": "dce6af7b",
   "metadata": {},
   "outputs": [],
   "source": []
  },
  {
   "cell_type": "markdown",
   "id": "4b14703a",
   "metadata": {},
   "source": [
    "## Baseline"
   ]
  },
  {
   "cell_type": "code",
   "execution_count": 10,
   "id": "185d656e",
   "metadata": {},
   "outputs": [
    {
     "data": {
      "text/plain": [
       ".0    1069570\n",
       "Name: tax_value, dtype: int64"
      ]
     },
     "execution_count": 10,
     "metadata": {},
     "output_type": "execute_result"
    }
   ],
   "source": [
    "# calculating 2 baselines for comparison: 1 for mean and 1 for median\n",
    "y = 'tax_value'\n",
    "# checkling the last values for rounding purposes\n",
    "y_train[y].astype(str).str[-2:].value_counts()"
   ]
  },
  {
   "cell_type": "code",
   "execution_count": 11,
   "id": "529922b1",
   "metadata": {},
   "outputs": [],
   "source": [
    "# first, we will create a column with baseline predictions\n",
    "y_train['baseline_mean'] = round(y_train[y].mean(), 2)\n",
    "\n",
    "y_train['baseline_med'] = round(y_train[y].median(), 2)"
   ]
  },
  {
   "cell_type": "code",
   "execution_count": 12,
   "id": "db1b5b8a",
   "metadata": {},
   "outputs": [],
   "source": [
    "# we will now add the baseline prediuctions to the validate ds\n",
    "y_validate['baseline_mean'] = round(y_validate.loc[:,y].mean(), 2)\n",
    "\n",
    "y_validate['baseline_med'] = round(y_validate.loc[:,y].median(), 2)"
   ]
  },
  {
   "cell_type": "code",
   "execution_count": 13,
   "id": "357c8628",
   "metadata": {},
   "outputs": [
    {
     "data": {
      "text/plain": [
       "(216142.46611625102, 215982.35433805967, 160.111778191349)"
      ]
     },
     "execution_count": 13,
     "metadata": {},
     "output_type": "execute_result"
    }
   ],
   "source": [
    "# RMSE of mean baseline predictions\n",
    "rmse_train = mean_squared_error(y_train.loc[:,y], y_train['baseline_mean'], squared=False)\n",
    "rmse_validate = mean_squared_error(y_validate.loc[:,y], y_validate['baseline_mean'], squared=False)\n",
    "\n",
    "# checking scores\n",
    "rmse_train, rmse_validate, rmse_train - rmse_validate"
   ]
  },
  {
   "cell_type": "code",
   "execution_count": 14,
   "id": "48485ed3",
   "metadata": {},
   "outputs": [
    {
     "data": {
      "text/plain": [
       "(219524.97308260584, 219471.81978825212, 53.153294353716774)"
      ]
     },
     "execution_count": 14,
     "metadata": {},
     "output_type": "execute_result"
    }
   ],
   "source": [
    "# RMSE of median baseline predictions\n",
    "rmse_train = mean_squared_error(y_train.loc[:,y], y_train['baseline_med'], squared=False)\n",
    "rmse_validate = mean_squared_error(y_validate.loc[:,y], y_validate['baseline_med'], squared=False)\n",
    "\n",
    "# checking scores\n",
    "rmse_train, rmse_validate, rmse_train - rmse_validate"
   ]
  },
  {
   "cell_type": "markdown",
   "id": "e1b522f7",
   "metadata": {},
   "source": [
    "#### Takeaways: \n",
    "* There is less of a difference between the train and validate ds for the baseline using the median so I will select that although it has a greater rmse\n",
    "\n",
    "#### Actions:\n",
    "* Drop the mean_baseline from the train ds\n",
    "* Plot both the actual and the baseline predications"
   ]
  },
  {
   "cell_type": "code",
   "execution_count": 15,
   "id": "52ab6037",
   "metadata": {},
   "outputs": [],
   "source": [
    "# dropping the baseline_mean\n",
    "y_train = y_train.drop(columns='baseline_mean')\n",
    "y_validate = y_validate.drop(columns='baseline_mean')"
   ]
  },
  {
   "cell_type": "code",
   "execution_count": 16,
   "id": "fe4d19a8",
   "metadata": {},
   "outputs": [],
   "source": [
    "# changing the column title\n",
    "y_train = y_train.rename(columns={'baseline_med': 'baseline_preds'})\n",
    "y_validate = y_validate.rename(columns={'baseline_med': 'baseline_preds'})"
   ]
  },
  {
   "cell_type": "code",
   "execution_count": 17,
   "id": "3dcb583b",
   "metadata": {},
   "outputs": [
    {
     "data": {
      "image/png": "[encoded data removed]",
      "text/plain": [
       "<Figure size 640x480 with 1 Axes>"
      ]
     },
     "metadata": {},
     "output_type": "display_data"
    }
   ],
   "source": [
    "# plt.hist(y_train.baseline_preds, color='black',rwidth=1, label='Predicted Tax Value - Baseline')\n",
    "plt.hist(y_train.tax_value, color='g', alpha=.5, label='Actual Tax Value')\n",
    "plt.legend()\n",
    "plt.show()"
   ]
  },
  {
   "cell_type": "markdown",
   "id": "93a005fa",
   "metadata": {},
   "source": [
    "## Ordinary Least Squares"
   ]
  },
  {
   "cell_type": "code",
   "execution_count": 18,
   "id": "b1ae43a9",
   "metadata": {},
   "outputs": [],
   "source": [
    "def basic_linear_modeling(X_train, y_train, x_validate, y_validate, model):\n",
    "    '''\n",
    "    Arguments:\n",
    "    Actions:\n",
    "    Returns:\n",
    "    Modules:\n",
    "    '''\n",
    "    # fit the model\n",
    "    model.fit(X_train, y_train)\n",
    "   \n",
    "    # return predictions\n",
    "    return model.predict(X_train), model.predict(X_validate)\n",
    "    "
   ]
  },
  {
   "cell_type": "code",
   "execution_count": 19,
   "id": "6554ea0e",
   "metadata": {},
   "outputs": [
    {
     "data": {
      "text/plain": [
       "(array([731160.59368947, 248942.36154109, 119937.53305848, ...,\n",
       "        804635.23663964, 311248.42570547, 381311.93895204]),\n",
       " array([5.22951682e+09, 3.88811405e+09, 5.93806562e+09, ...,\n",
       "        5.03090452e+09, 1.66528449e+09, 2.93012277e+09]))"
      ]
     },
     "execution_count": 19,
     "metadata": {},
     "output_type": "execute_result"
    }
   ],
   "source": [
    "basic_linear_modeling(X_train_scaled, y_train['tax_value'], X_validate_scaled, y_validate[['tax_value']], model=LinearRegression())"
   ]
  },
  {
   "cell_type": "code",
   "execution_count": 20,
   "id": "deeea6cc",
   "metadata": {},
   "outputs": [],
   "source": [
    "y_train['ols_preds'], y_validate['ols_preds'] = basic_linear_modeling(X_train_scaled, y_train[['tax_value']], X_validate_scaled, y_validate[['tax_value']], model=LinearRegression())"
   ]
  },
  {
   "cell_type": "code",
   "execution_count": 21,
   "id": "fd9199ed",
   "metadata": {},
   "outputs": [],
   "source": [
    "# creating the model\n",
    "lm = LinearRegression(normalize=True)\n",
    "\n",
    "# fit the model\n",
    "lm.fit(X_train_scaled, y_train.tax_value)\n",
    "\n",
    "# make predictions and assign to \n",
    "y_train['ols_preds'] = lm.predict(X_train_scaled)"
   ]
  },
  {
   "cell_type": "code",
   "execution_count": 22,
   "id": "2ac05e8c",
   "metadata": {},
   "outputs": [],
   "source": [
    "# validate predictions\n",
    "y_validate['ols_preds'] = lm.predict(X_validate_scaled)"
   ]
  },
  {
   "cell_type": "markdown",
   "id": "e563a602",
   "metadata": {},
   "source": [
    "#### Evaluation"
   ]
  },
  {
   "cell_type": "code",
   "execution_count": 23,
   "id": "acbd94f7",
   "metadata": {},
   "outputs": [
    {
     "data": {
      "text/plain": [
       "(52276.416444688846, 52618.11185381441, -341.6954091255611)"
      ]
     },
     "execution_count": 23,
     "metadata": {},
     "output_type": "execute_result"
    }
   ],
   "source": [
    "rmse_train = mean_squared_error(y_train.tax_value, y_train.ols_preds, squared=False)\n",
    "rmse_validate = mean_squared_error(y_validate.tax_value, y_validate.ols_preds, squared=False)\n",
    "\n",
    "rmse_train, rmse_validate, rmse_train - rmse_validate"
   ]
  },
  {
   "cell_type": "markdown",
   "id": "73b60519",
   "metadata": {},
   "source": [
    "## LassoLars"
   ]
  },
  {
   "cell_type": "code",
   "execution_count": 24,
   "id": "8c658659",
   "metadata": {},
   "outputs": [],
   "source": [
    "y_train['lars_alpha1_preds'], y_validate['lars_alpha1_preds'] = basic_linear_modeling(X_train_scaled, y_train[['tax_value']], X_validate_scaled, y_validate[['tax_value']], model=LassoLars(alpha=1))"
   ]
  },
  {
   "cell_type": "code",
   "execution_count": 25,
   "id": "3ef63ca7",
   "metadata": {},
   "outputs": [],
   "source": [
    "y_train['lars_alpha_half_preds'], y_validate['lars_alpha_half_preds'] = basic_linear_modeling(X_train_scaled, y_train[['tax_value']], X_validate_scaled, y_validate[['tax_value']], model=LassoLars(alpha=.5))"
   ]
  },
  {
   "cell_type": "code",
   "execution_count": 26,
   "id": "e5ed1bce",
   "metadata": {},
   "outputs": [],
   "source": [
    "y_train['lars_alpha_tenth_preds'], y_validate['lars_alpha_tenth_preds'] = basic_linear_modeling(X_train_scaled, y_train[['tax_value']], X_validate_scaled, y_validate[['tax_value']], model=LassoLars(alpha=.1))"
   ]
  },
  {
   "cell_type": "markdown",
   "id": "e802e4de",
   "metadata": {},
   "source": [
    "## TweedieRegressor (General Linear Model)"
   ]
  },
  {
   "cell_type": "code",
   "execution_count": 27,
   "id": "a0b27e98",
   "metadata": {},
   "outputs": [],
   "source": [
    "y_train['glm_norm_preds'], y_validate['glm_norm_preds'] = basic_linear_modeling(X_train_scaled, y_train[['tax_value']], X_validate_scaled, y_validate[['tax_value']], model=TweedieRegressor(power=0))"
   ]
  },
  {
   "cell_type": "code",
   "execution_count": 28,
   "id": "775e53a7",
   "metadata": {},
   "outputs": [],
   "source": [
    "y_train['glm_poi_preds'], y_validate['glm_poi_preds'] = basic_linear_modeling(X_train_scaled, y_train[['tax_value']], X_validate_scaled, y_validate[['tax_value']], model=TweedieRegressor(power=1))"
   ]
  },
  {
   "cell_type": "markdown",
   "id": "840b8cdc",
   "metadata": {},
   "source": [
    "## Polynomial Regression"
   ]
  },
  {
   "cell_type": "code",
   "execution_count": 29,
   "id": "50485de0",
   "metadata": {},
   "outputs": [],
   "source": [
    "# make the polyni mial features\n",
    "pf = PolynomialFeatures(degree=2)\n",
    "\n",
    "# fit_transform\n",
    "X_train_degree2 = pf.fit_transform(X_train_scaled)\n",
    "\n",
    "# transform for validate\n",
    "X_validate_degree2 = pf.transform(X_validate_scaled)\n"
   ]
  },
  {
   "cell_type": "code",
   "execution_count": 30,
   "id": "219fdd3d",
   "metadata": {},
   "outputs": [
    {
     "data": {
      "text/plain": [
       "array([[1.        , 0.8777533 , 0.71061314, 0.77045086, 0.62374303,\n",
       "        0.50497104],\n",
       "       [1.        , 0.35517621, 0.25838498, 0.12615014, 0.0917722 ,\n",
       "        0.0667628 ],\n",
       "       [1.        , 0.47081498, 0.12979917, 0.22166674, 0.06111139,\n",
       "        0.01684782],\n",
       "       ...,\n",
       "       [1.        , 0.38160793, 0.79665796, 0.14562461, 0.30401099,\n",
       "        0.63466391],\n",
       "       [1.        , 0.28854626, 0.32080956, 0.08325894, 0.0925684 ,\n",
       "        0.10291877],\n",
       "       [1.        , 0.61371145, 0.37909629, 0.37664175, 0.23265574,\n",
       "        0.143714  ]])"
      ]
     },
     "execution_count": 30,
     "metadata": {},
     "output_type": "execute_result"
    }
   ],
   "source": [
    "X_train_degree2"
   ]
  },
  {
   "cell_type": "code",
   "execution_count": 31,
   "id": "013b8162",
   "metadata": {
    "scrolled": true
   },
   "outputs": [],
   "source": [
    "# create the model object\n",
    "lm2 = LinearRegression(normalize=True)\n",
    "\n",
    "# fit the model to our training data. We must specify the column in y_train, \n",
    "# since we have converted it to a dataframe from a series! \n",
    "lm2.fit(X_train_degree2, y_train.tax_value)\n",
    "\n",
    "# predict train\n",
    "y_train['poly_preds'] = lm2.predict(X_train_degree2)\n",
    "\n",
    "\n",
    "# predict validate\n",
    "y_validate['poly_preds'] = lm2.predict(X_validate_degree2)\n"
   ]
  },
  {
   "cell_type": "code",
   "execution_count": 32,
   "id": "98b58253",
   "metadata": {},
   "outputs": [],
   "source": [
    "# basic_linear_modeling(X_train_degree2, y_train.tax_value, X_validate_degree2, y_validate.tax_value, model=LinearRegression())"
   ]
  },
  {
   "cell_type": "markdown",
   "id": "9ac360fa",
   "metadata": {},
   "source": [
    "# Evaluate"
   ]
  },
  {
   "cell_type": "code",
   "execution_count": 33,
   "id": "a3f27403",
   "metadata": {},
   "outputs": [
    {
     "data": {
      "text/plain": [
       "Index(['tax_value', 'baseline_preds', 'ols_preds', 'lars_alpha1_preds',\n",
       "       'lars_alpha_half_preds', 'lars_alpha_tenth_preds', 'glm_norm_preds',\n",
       "       'glm_poi_preds', 'poly_preds'],\n",
       "      dtype='object')"
      ]
     },
     "execution_count": 33,
     "metadata": {},
     "output_type": "execute_result"
    }
   ],
   "source": [
    "y_train.columns"
   ]
  },
  {
   "cell_type": "code",
   "execution_count": 34,
   "id": "f5999e30",
   "metadata": {},
   "outputs": [],
   "source": [
    "model_rmse = []\n",
    "target = 'tax_value'\n",
    "for col in y_train:\n",
    "    if col in ['glm_poi_preds', 'tax_value']:\n",
    "        pass\n",
    "    else:\n",
    "        rmse_train = mean_squared_error(y_train[target], round(y_train[col], 4), squared=False)\n",
    "        rmse_validate = mean_squared_error(y_validate[target], round(y_validate[col], 4), squared=False)\n",
    "        rmse_diff = rmse_train - rmse_validate\n",
    "        model_rmse.append({\n",
    "            'Model': col,\n",
    "            'Train RMSE': rmse_train,\n",
    "            'Validate RMSE': rmse_validate,\n",
    "            'RMSE Difference': rmse_diff\n",
    "        })"
   ]
  },
  {
   "cell_type": "code",
   "execution_count": 37,
   "id": "39428408",
   "metadata": {},
   "outputs": [
    {
     "name": "stdout",
     "output_type": "stream",
     "text": [
      "{'Model': 'poly_preds', 'Train RMSE': 52126.06816322001, 'Validate RMSE': 52480.03164808045, 'RMSE Difference': -353.9634848604401}\n"
     ]
    }
   ],
   "source": [
    "train = 1000000\n",
    "for i in model_rmse:\n",
    "    if i['Train RMSE'] < train:\n",
    "        train = i['Train RMSE']\n",
    "\n",
    "# getting the lowest train RMSE\n",
    "for i in model_rmse:\n",
    "    if i['Train RMSE'] == train:\n",
    "        print(i)"
   ]
  },
  {
   "cell_type": "code",
   "execution_count": 38,
   "id": "18feea36",
   "metadata": {},
   "outputs": [
    {
     "name": "stdout",
     "output_type": "stream",
     "text": [
      "{'Model': 'ols_preds', 'Train RMSE': 52276.416444730115, 'Validate RMSE': 52618.111853771064, 'RMSE Difference': -341.695409040949}\n"
     ]
    }
   ],
   "source": [
    "train = 1000000\n",
    "for i in model_rmse:\n",
    "    if abs(i['RMSE Difference']) < train and i['Model'] != 'baseline_preds':\n",
    "        train = i['RMSE Difference']\n",
    "\n",
    "# getting the lowest train RMSE\n",
    "for i in model_rmse:\n",
    "    if i['RMSE Difference'] == train:\n",
    "        print(i)"
   ]
  },
  {
   "cell_type": "code",
   "execution_count": 40,
   "id": "769ef4bf",
   "metadata": {},
   "outputs": [
    {
     "data": {
      "text/plain": [
       "[{'Model': 'baseline_preds',\n",
       "  'Train RMSE': 219524.97308260584,\n",
       "  'Validate RMSE': 219471.81978825212,\n",
       "  'RMSE Difference': 53.153294353716774},\n",
       " {'Model': 'ols_preds',\n",
       "  'Train RMSE': 52276.416444730115,\n",
       "  'Validate RMSE': 52618.111853771064,\n",
       "  'RMSE Difference': -341.695409040949},\n",
       " {'Model': 'lars_alpha1_preds',\n",
       "  'Train RMSE': 52290.50050056255,\n",
       "  'Validate RMSE': 5077368659.17558,\n",
       "  'RMSE Difference': -5077316368.675079},\n",
       " {'Model': 'lars_alpha_half_preds',\n",
       "  'Train RMSE': 52279.937814388424,\n",
       "  'Validate RMSE': 5089511213.791596,\n",
       "  'RMSE Difference': -5089458933.853782},\n",
       " {'Model': 'lars_alpha_tenth_preds',\n",
       "  'Train RMSE': 52276.55730401116,\n",
       "  'Validate RMSE': 5099225668.93482,\n",
       "  'RMSE Difference': -5099173392.377516},\n",
       " {'Model': 'glm_norm_preds',\n",
       "  'Train RMSE': 207156.3405131095,\n",
       "  'Validate RMSE': 222083213.83009896,\n",
       "  'RMSE Difference': -221876057.48958585},\n",
       " {'Model': 'poly_preds',\n",
       "  'Train RMSE': 52126.06816322001,\n",
       "  'Validate RMSE': 52480.03164808045,\n",
       "  'RMSE Difference': -353.9634848604401}]"
      ]
     },
     "execution_count": 40,
     "metadata": {},
     "output_type": "execute_result"
    }
   ],
   "source": [
    "model_rmse"
   ]
  },
  {
   "cell_type": "markdown",
   "id": "fc5f6006",
   "metadata": {},
   "source": [
    "#### Takeways:\n",
    "* Absolutely not: Lasso Lars is no, glm is no\n",
    "* Both OLS and Poly models had lower rmse than the basline. I will go with the polynomial as the best model because it has the lowest rmse and while the difference between train and valisaste rmse is lower for the OLS model, the difference between the two is far less than the diference between their respective scores. \n",
    "\n",
    "#### Actions:\n",
    "* Now I will use a polynomial linear model on the tes data set to see how it performs"
   ]
  },
  {
   "cell_type": "markdown",
   "id": "c9c6897d",
   "metadata": {},
   "source": [
    "## Test"
   ]
  },
  {
   "cell_type": "code",
   "execution_count": 42,
   "id": "c56f0854",
   "metadata": {},
   "outputs": [],
   "source": [
    "# make the polyni mial features\n",
    "pf = PolynomialFeatures(degree=2)\n",
    "\n",
    "# fit_transform\n",
    "X_train_degree2 = pf.fit_transform(X_train_scaled)\n",
    "\n",
    "# transform for validate\n",
    "X_test_degree2 = pf.transform(X_test_scaled)\n"
   ]
  },
  {
   "cell_type": "code",
   "execution_count": 30,
   "id": "192951cc",
   "metadata": {},
   "outputs": [
    {
     "data": {
      "text/plain": [
       "array([[1.        , 0.8777533 , 0.71061314, 0.77045086, 0.62374303,\n",
       "        0.50497104],\n",
       "       [1.        , 0.35517621, 0.25838498, 0.12615014, 0.0917722 ,\n",
       "        0.0667628 ],\n",
       "       [1.        , 0.47081498, 0.12979917, 0.22166674, 0.06111139,\n",
       "        0.01684782],\n",
       "       ...,\n",
       "       [1.        , 0.38160793, 0.79665796, 0.14562461, 0.30401099,\n",
       "        0.63466391],\n",
       "       [1.        , 0.28854626, 0.32080956, 0.08325894, 0.0925684 ,\n",
       "        0.10291877],\n",
       "       [1.        , 0.61371145, 0.37909629, 0.37664175, 0.23265574,\n",
       "        0.143714  ]])"
      ]
     },
     "execution_count": 30,
     "metadata": {},
     "output_type": "execute_result"
    }
   ],
   "source": [
    "X_train_degree2"
   ]
  },
  {
   "cell_type": "code",
   "execution_count": 43,
   "id": "d1285d25",
   "metadata": {
    "scrolled": true
   },
   "outputs": [],
   "source": [
    "# create the model object\n",
    "lm2 = LinearRegression(normalize=True)\n",
    "\n",
    "# fit the model to our training data. We must specify the column in y_train, \n",
    "# since we have converted it to a dataframe from a series! \n",
    "lm2.fit(X_train_degree2, y_train.tax_value)\n",
    "\n",
    "# predict train\n",
    "y_train['poly_preds'] = lm2.predict(X_train_degree2)\n",
    "\n",
    "\n",
    "# predict validate\n",
    "y_test['poly_preds'] = lm2.predict(X_test_degree2)\n"
   ]
  },
  {
   "cell_type": "code",
   "execution_count": 46,
   "id": "3e34cff5",
   "metadata": {},
   "outputs": [],
   "source": [
    "# Getting evaluation metrics\n",
    "rmse_train = mean_squared_error(y_train[target], y_train['poly_preds'], squared=False)\n",
    "rmse_test = mean_squared_error(y_test[target], y_test['poly_preds'], squared=False)\n",
    "rmse_diff = rmse_train - rmse_test\n",
    "model_rmse.append({\n",
    "    'Model': col,\n",
    "    'Train RMSE': rmse_train,\n",
    "    'Test RMSE': rmse_test,\n",
    "    'RMSE Difference': rmse_diff\n",
    "})"
   ]
  },
  {
   "cell_type": "code",
   "execution_count": 52,
   "id": "2ddc3ed7",
   "metadata": {},
   "outputs": [
    {
     "data": {
      "text/plain": [
       "{'Model': 'poly_preds',\n",
       " 'Train RMSE': 52126.06816321726,\n",
       " 'Test RMSE': 51949.96644362109,\n",
       " 'RMSE Difference': 176.10171959616855}"
      ]
     },
     "execution_count": 52,
     "metadata": {},
     "output_type": "execute_result"
    }
   ],
   "source": [
    "model_rmse[-1]"
   ]
  },
  {
   "cell_type": "markdown",
   "id": "06322696",
   "metadata": {},
   "source": [
    "#### Takeaways:\n",
    "* The poly_preds model performed even better on the test data set\n",
    "\n",
    "#### Next Steps: \n",
    "* Look into other hyperparameters within the polynomial liner regressions\n",
    "* Look into the poisson distrubution general linear model"
   ]
  }
 ],
 "metadata": {
  "kernelspec": {
   "display_name": "Python 3 (ipykernel)",
   "language": "python",
   "name": "python3"
  },
  "language_info": {
   "codemirror_mode": {
    "name": "ipython",
    "version": 3
   },
   "file_extension": ".py",
   "mimetype": "text/x-python",
   "name": "python",
   "nbconvert_exporter": "python",
   "pygments_lexer": "ipython3",
   "version": "3.9.13"
  }
 },
 "nbformat": 4,
 "nbformat_minor": 5
}
