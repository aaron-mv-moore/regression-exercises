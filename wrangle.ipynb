{
 "cells": [
  {
   "cell_type": "code",
   "execution_count": 6,
   "id": "91565fa4",
   "metadata": {},
   "outputs": [],
   "source": [
    "import pandas as pd\n",
    "import numpy as np\n",
    "\n",
    "import os\n",
    "from env import get_db_url\n",
    "\n",
    "import seaborn as sns\n",
    "import matplotlib.pyplot as plt"
   ]
  },
  {
   "cell_type": "markdown",
   "id": "9d747170",
   "metadata": {},
   "source": [
    "# Acquire"
   ]
  },
  {
   "cell_type": "code",
   "execution_count": 7,
   "id": "9c37d0cf",
   "metadata": {},
   "outputs": [],
   "source": [
    "def get_zillow_data():\n",
    "    '''\n",
    "    Arguments: none\n",
    "    Actions: \n",
    "        1. If file exists in current working directory, opens file\n",
    "        2. If file doesn't exist in current working directory, querys MySQL database and saves it to the current working directory\n",
    "    Returns: df\n",
    "    Modules: pandas as pd, from env import get_db_url, os\n",
    "    '''\n",
    "    \n",
    "    # assigns filename\n",
    "    filename = 'zillow.csv'\n",
    "    \n",
    "    # checks to see if the file exists in the working directory\n",
    "    if os.path.exists(filename):\n",
    "        \n",
    "        # opens file and assigns it to a variable\n",
    "        df = pd.read_csv(filename, index_col=0)\n",
    "        \n",
    "        # returns the df\n",
    "        return df\n",
    "    \n",
    "    else:\n",
    "        \n",
    "        # assigns MySQL query to the variables\n",
    "        query = '''SELECT\n",
    "                      bedroomcnt,\n",
    "                      bathroomcnt,\n",
    "                      calculatedfinishedsquarefeet,\n",
    "                      taxvaluedollarcnt,\n",
    "                      yearbuilt,\n",
    "                      taxamount,\n",
    "                      fips\n",
    "                    FROM properties_2017\n",
    "                    WHERE propertylandusetypeID = 261;'''\n",
    "        \n",
    "        # creates a database variable\n",
    "        db = 'zillow'\n",
    "        \n",
    "        # assign MySQL url to url variable\n",
    "        url = get_db_url(db)\n",
    "        \n",
    "        # reads results from query and assigns it to df\n",
    "        df = pd.read_sql(query, url)\n",
    "\n",
    "        # saves results to local file\n",
    "        df.to_csv(filename)\n",
    "        \n",
    "        # returns the dataframe\n",
    "        return df"
   ]
  },
  {
   "cell_type": "code",
   "execution_count": 5,
   "id": "52dc9849",
   "metadata": {},
   "outputs": [],
   "source": [
    "query = '''SELECT\n",
    "  bedroomcnt,\n",
    "  bathroomcnt,\n",
    "  calculatedfinishedsquarefeet,\n",
    "  taxvaluedollarcnt,\n",
    "  yearbuilt,\n",
    "  taxamount,\n",
    "  fips\n",
    "FROM properties_2017\n",
    "WHERE propertylandusetypeID = 261;'''"
   ]
  },
  {
   "cell_type": "code",
   "execution_count": 6,
   "id": "86846906",
   "metadata": {},
   "outputs": [],
   "source": [
    "url = get_db_url('zillow')"
   ]
  },
  {
   "cell_type": "code",
   "execution_count": 8,
   "id": "6b865ebb",
   "metadata": {},
   "outputs": [],
   "source": [
    "# df = pd.read_sql(query, url)"
   ]
  },
  {
   "cell_type": "code",
   "execution_count": 9,
   "id": "49401696",
   "metadata": {},
   "outputs": [],
   "source": [
    "filename = 'zillow.csv'"
   ]
  },
  {
   "cell_type": "code",
   "execution_count": 10,
   "id": "915329b4",
   "metadata": {},
   "outputs": [
    {
     "ename": "NameError",
     "evalue": "name 'df' is not defined",
     "output_type": "error",
     "traceback": [
      "\u001b[0;31m---------------------------------------------------------------------------\u001b[0m",
      "\u001b[0;31mNameError\u001b[0m                                 Traceback (most recent call last)",
      "Input \u001b[0;32mIn [10]\u001b[0m, in \u001b[0;36m<cell line: 1>\u001b[0;34m()\u001b[0m\n\u001b[0;32m----> 1\u001b[0m \u001b[43mdf\u001b[49m\u001b[38;5;241m.\u001b[39mto_csv(filename)\n",
      "\u001b[0;31mNameError\u001b[0m: name 'df' is not defined"
     ]
    }
   ],
   "source": [
    "# df.to_csv(filename)"
   ]
  },
  {
   "cell_type": "code",
   "execution_count": null,
   "id": "50bd7420",
   "metadata": {},
   "outputs": [],
   "source": [
    "df.head()"
   ]
  },
  {
   "cell_type": "code",
   "execution_count": 12,
   "id": "34eb78c1",
   "metadata": {},
   "outputs": [],
   "source": [
    "df = get_zillow_data()"
   ]
  },
  {
   "cell_type": "code",
   "execution_count": 13,
   "id": "b4a7d9f2",
   "metadata": {},
   "outputs": [
    {
     "data": {
      "text/html": [
       "<div>\n",
       "<style scoped>\n",
       "    .dataframe tbody tr th:only-of-type {\n",
       "        vertical-align: middle;\n",
       "    }\n",
       "\n",
       "    .dataframe tbody tr th {\n",
       "        vertical-align: top;\n",
       "    }\n",
       "\n",
       "    .dataframe thead th {\n",
       "        text-align: right;\n",
       "    }\n",
       "</style>\n",
       "<table border=\"1\" class=\"dataframe\">\n",
       "  <thead>\n",
       "    <tr style=\"text-align: right;\">\n",
       "      <th></th>\n",
       "      <th>bedroomcnt</th>\n",
       "      <th>bathroomcnt</th>\n",
       "      <th>calculatedfinishedsquarefeet</th>\n",
       "      <th>taxvaluedollarcnt</th>\n",
       "      <th>yearbuilt</th>\n",
       "      <th>taxamount</th>\n",
       "      <th>fips</th>\n",
       "    </tr>\n",
       "  </thead>\n",
       "  <tbody>\n",
       "    <tr>\n",
       "      <th>0</th>\n",
       "      <td>0.0</td>\n",
       "      <td>0.0</td>\n",
       "      <td>NaN</td>\n",
       "      <td>27516.0</td>\n",
       "      <td>NaN</td>\n",
       "      <td>NaN</td>\n",
       "      <td>6037.0</td>\n",
       "    </tr>\n",
       "    <tr>\n",
       "      <th>1</th>\n",
       "      <td>0.0</td>\n",
       "      <td>0.0</td>\n",
       "      <td>NaN</td>\n",
       "      <td>10.0</td>\n",
       "      <td>NaN</td>\n",
       "      <td>NaN</td>\n",
       "      <td>6037.0</td>\n",
       "    </tr>\n",
       "    <tr>\n",
       "      <th>2</th>\n",
       "      <td>0.0</td>\n",
       "      <td>0.0</td>\n",
       "      <td>NaN</td>\n",
       "      <td>10.0</td>\n",
       "      <td>NaN</td>\n",
       "      <td>NaN</td>\n",
       "      <td>6037.0</td>\n",
       "    </tr>\n",
       "    <tr>\n",
       "      <th>3</th>\n",
       "      <td>0.0</td>\n",
       "      <td>0.0</td>\n",
       "      <td>NaN</td>\n",
       "      <td>2108.0</td>\n",
       "      <td>NaN</td>\n",
       "      <td>174.21</td>\n",
       "      <td>6037.0</td>\n",
       "    </tr>\n",
       "    <tr>\n",
       "      <th>4</th>\n",
       "      <td>4.0</td>\n",
       "      <td>2.0</td>\n",
       "      <td>3633.0</td>\n",
       "      <td>296425.0</td>\n",
       "      <td>2005.0</td>\n",
       "      <td>6941.39</td>\n",
       "      <td>6037.0</td>\n",
       "    </tr>\n",
       "  </tbody>\n",
       "</table>\n",
       "</div>"
      ],
      "text/plain": [
       "   bedroomcnt  bathroomcnt  calculatedfinishedsquarefeet  taxvaluedollarcnt  \\\n",
       "0         0.0          0.0                           NaN            27516.0   \n",
       "1         0.0          0.0                           NaN               10.0   \n",
       "2         0.0          0.0                           NaN               10.0   \n",
       "3         0.0          0.0                           NaN             2108.0   \n",
       "4         4.0          2.0                        3633.0           296425.0   \n",
       "\n",
       "   yearbuilt  taxamount    fips  \n",
       "0        NaN        NaN  6037.0  \n",
       "1        NaN        NaN  6037.0  \n",
       "2        NaN        NaN  6037.0  \n",
       "3        NaN     174.21  6037.0  \n",
       "4     2005.0    6941.39  6037.0  "
      ]
     },
     "execution_count": 13,
     "metadata": {},
     "output_type": "execute_result"
    }
   ],
   "source": [
    "df.head()"
   ]
  },
  {
   "cell_type": "markdown",
   "id": "2d8fe853",
   "metadata": {},
   "source": [
    "# Messy Data Summary\n"
   ]
  },
  {
   "cell_type": "code",
   "execution_count": 14,
   "id": "2fac1c5b",
   "metadata": {},
   "outputs": [
    {
     "data": {
      "text/plain": [
       "(2152863, 7)"
      ]
     },
     "execution_count": 14,
     "metadata": {},
     "output_type": "execute_result"
    }
   ],
   "source": [
    "# checking rows and columns, I believe each row is a property and each columns is inforation about that property\n",
    "df.shape"
   ]
  },
  {
   "cell_type": "code",
   "execution_count": 15,
   "id": "6fe87aae",
   "metadata": {},
   "outputs": [
    {
     "name": "stdout",
     "output_type": "stream",
     "text": [
      "<class 'pandas.core.frame.DataFrame'>\n",
      "Int64Index: 2152863 entries, 0 to 2152862\n",
      "Data columns (total 7 columns):\n",
      " #   Column                        Dtype  \n",
      "---  ------                        -----  \n",
      " 0   bedroomcnt                    float64\n",
      " 1   bathroomcnt                   float64\n",
      " 2   calculatedfinishedsquarefeet  float64\n",
      " 3   taxvaluedollarcnt             float64\n",
      " 4   yearbuilt                     float64\n",
      " 5   taxamount                     float64\n",
      " 6   fips                          float64\n",
      "dtypes: float64(7)\n",
      "memory usage: 131.4 MB\n"
     ]
    }
   ],
   "source": [
    "# this is surprising, the non-null values do not appear in the info, but I know for a fact that some of these have nulls, we will have to inspect a diferent way\n",
    "df.info()"
   ]
  },
  {
   "cell_type": "code",
   "execution_count": 16,
   "id": "ea1d68ae",
   "metadata": {},
   "outputs": [
    {
     "data": {
      "text/plain": [
       "False    2144379\n",
       "True        8484\n",
       "Name: calculatedfinishedsquarefeet, dtype: int64"
      ]
     },
     "execution_count": 16,
     "metadata": {},
     "output_type": "execute_result"
    }
   ],
   "source": [
    "# finding null values\n",
    "df['calculatedfinishedsquarefeet'].isna().value_counts()"
   ]
  },
  {
   "cell_type": "code",
   "execution_count": 17,
   "id": "bec70ec4",
   "metadata": {
    "scrolled": true
   },
   "outputs": [
    {
     "ename": "SyntaxError",
     "evalue": "invalid syntax (1328930466.py, line 3)",
     "output_type": "error",
     "traceback": [
      "\u001b[0;36m  Input \u001b[0;32mIn [17]\u001b[0;36m\u001b[0m\n\u001b[0;31m    print(df[col].isna().value_counts())`\u001b[0m\n\u001b[0m                                        ^\u001b[0m\n\u001b[0;31mSyntaxError\u001b[0m\u001b[0;31m:\u001b[0m invalid syntax\n"
     ]
    }
   ],
   "source": [
    "# ok there is some variety here we need to investigate\n",
    "for col in df:\n",
    "    print(df[col].isna().value_counts())"
   ]
  },
  {
   "cell_type": "markdown",
   "id": "6a94e234",
   "metadata": {},
   "source": [
    "**Notes:**\n",
    "\n",
    "* ##### Nulls:\n",
    "    * Bedroom and Bathroomcnt have the same number of null values, these may be the same properties/observations \n",
    "        * I think we will definitely just drop these instead of filling them in\n",
    "    * fips doesn't have any missing values which makes sense becasue the fips is the location and a property listing without the location doesnt make any sense tbh you vant sell a property without knowing its locations\n",
    "    * all other observations have larger amounts of data missing which I would like to investigate further before moving on. I think first, I want to see if there are\n",
    "* ##### Floats:\n",
    "    * Not all the values require the datatype to be a float, see if there is a way to avoid this when reading the file from its file location as a csv becasue thios is not something that happens in the sql query\n",
    "\n",
    "**Action:**\n",
    "* Investigate: taxamount, yearbuilt, taxvaluedollarcnt, and calculatedfinishedsquarefeet"
   ]
  },
  {
   "cell_type": "code",
   "execution_count": null,
   "id": "5b9563b2",
   "metadata": {},
   "outputs": [],
   "source": [
    "# checking to see how much data we will lose if we dorp the null values\n",
    "(df.shape[0] - df.dropna().shape[0]) / df.shape[0]\n",
    "\n",
    "# dropping the null values seems to be acceptable becasue it only reduces less than one percent of the data\n",
    "# it depends on what we want to answer in the future tbh, but I believe that this "
   ]
  },
  {
   "cell_type": "code",
   "execution_count": 62,
   "id": "fc4d779d",
   "metadata": {},
   "outputs": [],
   "source": [
    "# for time sake, I'm goint to just dopr the observations becasue of the low impact it will have on the data\n",
    "df = df.dropna()"
   ]
  },
  {
   "cell_type": "code",
   "execution_count": null,
   "id": "067d3576",
   "metadata": {},
   "outputs": [],
   "source": [
    "df.describe()"
   ]
  },
  {
   "cell_type": "markdown",
   "id": "39b306c4",
   "metadata": {},
   "source": [
    "**Takeaways:**\n",
    "* bedroomcnt:\n",
    "    * minimum of 0 seems suspicious\n",
    "* bathroomcnt:\n",
    "    * minimum of 0 seems suspicious\n",
    "* calculatedfinishedsquarefeet\n",
    "    * minimum of 1 seems suspicious\n",
    "    \n",
    "**Actions:**\n",
    "* Look into the minimums of bedroomcnt, bathroomcnt, and calculatedfinishedsquarefeet"
   ]
  },
  {
   "cell_type": "code",
   "execution_count": null,
   "id": "89392c52",
   "metadata": {},
   "outputs": [],
   "source": [
    "# quite a few with 0 bathrooms, I dont know if this is accurate or not though. \n",
    "# I think need more domain knowledge to make an informed decision about this\n",
    "df[df['bathroomcnt'] == 0]"
   ]
  },
  {
   "cell_type": "code",
   "execution_count": 19,
   "id": "5e5d8251",
   "metadata": {},
   "outputs": [],
   "source": [
    "# Consulted with the teacher, a family residence would likely have bathroom. It needs to be dropped\n",
    "# dropping 0 bathroom units\n",
    "df = df[df['bathroomcnt'] != 0]"
   ]
  },
  {
   "cell_type": "code",
   "execution_count": null,
   "id": "26427103",
   "metadata": {},
   "outputs": [],
   "source": [
    "# there are also units with 0 bedrooms still left over and with the calculatedsquarefeet at 1\n",
    "df.describe()"
   ]
  },
  {
   "cell_type": "code",
   "execution_count": null,
   "id": "5c30816c",
   "metadata": {},
   "outputs": [],
   "source": [
    "# looking at unit s with one bedrooms - There appear to be a lot of inconsistencies with the minimum and maximums\n",
    "df[df['bedroomcnt'] == 0].describe()"
   ]
  },
  {
   "cell_type": "code",
   "execution_count": 20,
   "id": "76dac0bc",
   "metadata": {},
   "outputs": [],
   "source": [
    "# dropping 0 bedroom homes\n",
    "df = df[df['bedroomcnt'] != 0]"
   ]
  },
  {
   "cell_type": "code",
   "execution_count": null,
   "id": "d270b902",
   "metadata": {},
   "outputs": [],
   "source": [
    "# Looking into the calculated sqfeet\n",
    "for col in df:\n",
    "    sns.boxplot(data=df, x=col)\n",
    "    plt.show()"
   ]
  },
  {
   "cell_type": "code",
   "execution_count": null,
   "id": "ea41b292",
   "metadata": {},
   "outputs": [],
   "source": [
    "# the max calculated sqft is likely an error, droppping this value\n",
    "# df = df[df.calculatedfinishedsquarefeet != df.calculatedfinishedsquarefeet.max()]"
   ]
  },
  {
   "cell_type": "code",
   "execution_count": null,
   "id": "34f938a8",
   "metadata": {},
   "outputs": [],
   "source": [
    "# this is better, now lets look at the minimums\n",
    "df.describe()"
   ]
  },
  {
   "cell_type": "code",
   "execution_count": null,
   "id": "f98c22f3",
   "metadata": {},
   "outputs": [],
   "source": [
    "# I think I will use standard deviations to eliminate the items that are likley not correct for the calculated fields\n",
    "\n",
    "df.calculatedfinishedsquarefeet.mean(), df.calculatedfinishedsquarefeet.std()"
   ]
  },
  {
   "cell_type": "code",
   "execution_count": 21,
   "id": "eeb17e4e",
   "metadata": {},
   "outputs": [
    {
     "data": {
      "text/plain": [
       "(3537.0, 895.0)"
      ]
     },
     "execution_count": 21,
     "metadata": {},
     "output_type": "execute_result"
    }
   ],
   "source": [
    "# establish a range of values for dropping outliers with, I am goin to be cautious and use 0.05 as the buffer on each end\n",
    "np.quantile(df['calculatedfinishedsquarefeet'], 0.95), np.quantile(df['calculatedfinishedsquarefeet'], 0.05)"
   ]
  },
  {
   "cell_type": "code",
   "execution_count": 22,
   "id": "2b4878f1",
   "metadata": {},
   "outputs": [],
   "source": [
    "# dropping outliers\n",
    "df = df[(df.calculatedfinishedsquarefeet > 895) & (df.calculatedfinishedsquarefeet < 3537)]"
   ]
  },
  {
   "cell_type": "code",
   "execution_count": 23,
   "id": "4be67227",
   "metadata": {},
   "outputs": [
    {
     "data": {
      "text/html": [
       "<div>\n",
       "<style scoped>\n",
       "    .dataframe tbody tr th:only-of-type {\n",
       "        vertical-align: middle;\n",
       "    }\n",
       "\n",
       "    .dataframe tbody tr th {\n",
       "        vertical-align: top;\n",
       "    }\n",
       "\n",
       "    .dataframe thead th {\n",
       "        text-align: right;\n",
       "    }\n",
       "</style>\n",
       "<table border=\"1\" class=\"dataframe\">\n",
       "  <thead>\n",
       "    <tr style=\"text-align: right;\">\n",
       "      <th></th>\n",
       "      <th>bedroomcnt</th>\n",
       "      <th>bathroomcnt</th>\n",
       "      <th>calculatedfinishedsquarefeet</th>\n",
       "      <th>taxvaluedollarcnt</th>\n",
       "      <th>yearbuilt</th>\n",
       "      <th>taxamount</th>\n",
       "      <th>fips</th>\n",
       "    </tr>\n",
       "  </thead>\n",
       "  <tbody>\n",
       "    <tr>\n",
       "      <th>count</th>\n",
       "      <td>1.921364e+06</td>\n",
       "      <td>1.921364e+06</td>\n",
       "      <td>1.921364e+06</td>\n",
       "      <td>1.921364e+06</td>\n",
       "      <td>1.921364e+06</td>\n",
       "      <td>1.921364e+06</td>\n",
       "      <td>1.921364e+06</td>\n",
       "    </tr>\n",
       "    <tr>\n",
       "      <th>mean</th>\n",
       "      <td>3.311135e+00</td>\n",
       "      <td>2.177501e+00</td>\n",
       "      <td>1.766047e+03</td>\n",
       "      <td>3.988857e+05</td>\n",
       "      <td>1.960945e+03</td>\n",
       "      <td>4.905463e+03</td>\n",
       "      <td>6.048559e+03</td>\n",
       "    </tr>\n",
       "    <tr>\n",
       "      <th>std</th>\n",
       "      <td>8.160386e-01</td>\n",
       "      <td>7.534983e-01</td>\n",
       "      <td>6.024771e+02</td>\n",
       "      <td>3.622314e+05</td>\n",
       "      <td>2.105369e+01</td>\n",
       "      <td>4.167820e+03</td>\n",
       "      <td>2.049077e+01</td>\n",
       "    </tr>\n",
       "    <tr>\n",
       "      <th>min</th>\n",
       "      <td>1.000000e+00</td>\n",
       "      <td>5.000000e-01</td>\n",
       "      <td>8.960000e+02</td>\n",
       "      <td>2.200000e+01</td>\n",
       "      <td>1.801000e+03</td>\n",
       "      <td>1.648000e+01</td>\n",
       "      <td>6.037000e+03</td>\n",
       "    </tr>\n",
       "    <tr>\n",
       "      <th>25%</th>\n",
       "      <td>3.000000e+00</td>\n",
       "      <td>2.000000e+00</td>\n",
       "      <td>1.294000e+03</td>\n",
       "      <td>1.901920e+05</td>\n",
       "      <td>1.950000e+03</td>\n",
       "      <td>2.553180e+03</td>\n",
       "      <td>6.037000e+03</td>\n",
       "    </tr>\n",
       "    <tr>\n",
       "      <th>50%</th>\n",
       "      <td>3.000000e+00</td>\n",
       "      <td>2.000000e+00</td>\n",
       "      <td>1.624000e+03</td>\n",
       "      <td>3.242070e+05</td>\n",
       "      <td>1.959000e+03</td>\n",
       "      <td>4.058060e+03</td>\n",
       "      <td>6.037000e+03</td>\n",
       "    </tr>\n",
       "    <tr>\n",
       "      <th>75%</th>\n",
       "      <td>4.000000e+00</td>\n",
       "      <td>3.000000e+00</td>\n",
       "      <td>2.127000e+03</td>\n",
       "      <td>5.076240e+05</td>\n",
       "      <td>1.974000e+03</td>\n",
       "      <td>6.106760e+03</td>\n",
       "      <td>6.059000e+03</td>\n",
       "    </tr>\n",
       "    <tr>\n",
       "      <th>max</th>\n",
       "      <td>1.600000e+01</td>\n",
       "      <td>1.500000e+01</td>\n",
       "      <td>3.536000e+03</td>\n",
       "      <td>4.124780e+07</td>\n",
       "      <td>2.016000e+03</td>\n",
       "      <td>4.678122e+05</td>\n",
       "      <td>6.111000e+03</td>\n",
       "    </tr>\n",
       "  </tbody>\n",
       "</table>\n",
       "</div>"
      ],
      "text/plain": [
       "         bedroomcnt   bathroomcnt  calculatedfinishedsquarefeet  \\\n",
       "count  1.921364e+06  1.921364e+06                  1.921364e+06   \n",
       "mean   3.311135e+00  2.177501e+00                  1.766047e+03   \n",
       "std    8.160386e-01  7.534983e-01                  6.024771e+02   \n",
       "min    1.000000e+00  5.000000e-01                  8.960000e+02   \n",
       "25%    3.000000e+00  2.000000e+00                  1.294000e+03   \n",
       "50%    3.000000e+00  2.000000e+00                  1.624000e+03   \n",
       "75%    4.000000e+00  3.000000e+00                  2.127000e+03   \n",
       "max    1.600000e+01  1.500000e+01                  3.536000e+03   \n",
       "\n",
       "       taxvaluedollarcnt     yearbuilt     taxamount          fips  \n",
       "count       1.921364e+06  1.921364e+06  1.921364e+06  1.921364e+06  \n",
       "mean        3.988857e+05  1.960945e+03  4.905463e+03  6.048559e+03  \n",
       "std         3.622314e+05  2.105369e+01  4.167820e+03  2.049077e+01  \n",
       "min         2.200000e+01  1.801000e+03  1.648000e+01  6.037000e+03  \n",
       "25%         1.901920e+05  1.950000e+03  2.553180e+03  6.037000e+03  \n",
       "50%         3.242070e+05  1.959000e+03  4.058060e+03  6.037000e+03  \n",
       "75%         5.076240e+05  1.974000e+03  6.106760e+03  6.059000e+03  \n",
       "max         4.124780e+07  2.016000e+03  4.678122e+05  6.111000e+03  "
      ]
     },
     "execution_count": 23,
     "metadata": {},
     "output_type": "execute_result"
    }
   ],
   "source": [
    "# checking values\n",
    "df.describe()\n",
    "\n",
    "# will now look intpo the taxvaluedollacnt"
   ]
  },
  {
   "cell_type": "code",
   "execution_count": 25,
   "id": "17571253",
   "metadata": {},
   "outputs": [
    {
     "data": {
      "text/html": [
       "<div>\n",
       "<style scoped>\n",
       "    .dataframe tbody tr th:only-of-type {\n",
       "        vertical-align: middle;\n",
       "    }\n",
       "\n",
       "    .dataframe tbody tr th {\n",
       "        vertical-align: top;\n",
       "    }\n",
       "\n",
       "    .dataframe thead th {\n",
       "        text-align: right;\n",
       "    }\n",
       "</style>\n",
       "<table border=\"1\" class=\"dataframe\">\n",
       "  <thead>\n",
       "    <tr style=\"text-align: right;\">\n",
       "      <th></th>\n",
       "      <th>bedroomcnt</th>\n",
       "      <th>bathroomcnt</th>\n",
       "      <th>calculatedfinishedsquarefeet</th>\n",
       "      <th>taxvaluedollarcnt</th>\n",
       "      <th>yearbuilt</th>\n",
       "      <th>taxamount</th>\n",
       "      <th>fips</th>\n",
       "    </tr>\n",
       "  </thead>\n",
       "  <tbody>\n",
       "    <tr>\n",
       "      <th>1327898</th>\n",
       "      <td>2.0</td>\n",
       "      <td>2.0</td>\n",
       "      <td>2024.0</td>\n",
       "      <td>41247800.0</td>\n",
       "      <td>1947.0</td>\n",
       "      <td>467812.25</td>\n",
       "      <td>6037.0</td>\n",
       "    </tr>\n",
       "  </tbody>\n",
       "</table>\n",
       "</div>"
      ],
      "text/plain": [
       "         bedroomcnt  bathroomcnt  calculatedfinishedsquarefeet  \\\n",
       "1327898         2.0          2.0                        2024.0   \n",
       "\n",
       "         taxvaluedollarcnt  yearbuilt  taxamount    fips  \n",
       "1327898         41247800.0     1947.0  467812.25  6037.0  "
      ]
     },
     "execution_count": 25,
     "metadata": {},
     "output_type": "execute_result"
    }
   ],
   "source": [
    "# looking at the max\n",
    "df[df.taxvaluedollarcnt == df.taxvaluedollarcnt.max()]\n",
    "\n",
    "# appears that there are zeros that dont belong there"
   ]
  },
  {
   "cell_type": "code",
   "execution_count": 30,
   "id": "12b6220e",
   "metadata": {},
   "outputs": [
    {
     "data": {
      "text/html": [
       "<div>\n",
       "<style scoped>\n",
       "    .dataframe tbody tr th:only-of-type {\n",
       "        vertical-align: middle;\n",
       "    }\n",
       "\n",
       "    .dataframe tbody tr th {\n",
       "        vertical-align: top;\n",
       "    }\n",
       "\n",
       "    .dataframe thead th {\n",
       "        text-align: right;\n",
       "    }\n",
       "</style>\n",
       "<table border=\"1\" class=\"dataframe\">\n",
       "  <thead>\n",
       "    <tr style=\"text-align: right;\">\n",
       "      <th></th>\n",
       "      <th>bedroomcnt</th>\n",
       "      <th>bathroomcnt</th>\n",
       "      <th>calculatedfinishedsquarefeet</th>\n",
       "      <th>taxvaluedollarcnt</th>\n",
       "      <th>yearbuilt</th>\n",
       "      <th>taxamount</th>\n",
       "      <th>fips</th>\n",
       "    </tr>\n",
       "  </thead>\n",
       "  <tbody>\n",
       "    <tr>\n",
       "      <th>46</th>\n",
       "      <td>4.0</td>\n",
       "      <td>4.0</td>\n",
       "      <td>1978.0</td>\n",
       "      <td>350000.0</td>\n",
       "      <td>2015.0</td>\n",
       "      <td>4836.07</td>\n",
       "      <td>6037.0</td>\n",
       "    </tr>\n",
       "    <tr>\n",
       "      <th>50</th>\n",
       "      <td>5.0</td>\n",
       "      <td>4.5</td>\n",
       "      <td>3207.0</td>\n",
       "      <td>900000.0</td>\n",
       "      <td>2015.0</td>\n",
       "      <td>10059.28</td>\n",
       "      <td>6059.0</td>\n",
       "    </tr>\n",
       "    <tr>\n",
       "      <th>61</th>\n",
       "      <td>3.0</td>\n",
       "      <td>2.5</td>\n",
       "      <td>2148.0</td>\n",
       "      <td>680000.0</td>\n",
       "      <td>1981.0</td>\n",
       "      <td>7909.14</td>\n",
       "      <td>6111.0</td>\n",
       "    </tr>\n",
       "    <tr>\n",
       "      <th>84</th>\n",
       "      <td>2.0</td>\n",
       "      <td>2.0</td>\n",
       "      <td>1304.0</td>\n",
       "      <td>940000.0</td>\n",
       "      <td>1980.0</td>\n",
       "      <td>10102.92</td>\n",
       "      <td>6111.0</td>\n",
       "    </tr>\n",
       "    <tr>\n",
       "      <th>93</th>\n",
       "      <td>3.0</td>\n",
       "      <td>1.0</td>\n",
       "      <td>1080.0</td>\n",
       "      <td>358000.0</td>\n",
       "      <td>1955.0</td>\n",
       "      <td>4135.12</td>\n",
       "      <td>6111.0</td>\n",
       "    </tr>\n",
       "    <tr>\n",
       "      <th>...</th>\n",
       "      <td>...</td>\n",
       "      <td>...</td>\n",
       "      <td>...</td>\n",
       "      <td>...</td>\n",
       "      <td>...</td>\n",
       "      <td>...</td>\n",
       "      <td>...</td>\n",
       "    </tr>\n",
       "    <tr>\n",
       "      <th>2152721</th>\n",
       "      <td>4.0</td>\n",
       "      <td>3.0</td>\n",
       "      <td>2567.0</td>\n",
       "      <td>703300.0</td>\n",
       "      <td>2009.0</td>\n",
       "      <td>8093.20</td>\n",
       "      <td>6059.0</td>\n",
       "    </tr>\n",
       "    <tr>\n",
       "      <th>2152736</th>\n",
       "      <td>3.0</td>\n",
       "      <td>3.5</td>\n",
       "      <td>1744.0</td>\n",
       "      <td>498000.0</td>\n",
       "      <td>2008.0</td>\n",
       "      <td>5803.04</td>\n",
       "      <td>6059.0</td>\n",
       "    </tr>\n",
       "    <tr>\n",
       "      <th>2152760</th>\n",
       "      <td>2.0</td>\n",
       "      <td>1.0</td>\n",
       "      <td>984.0</td>\n",
       "      <td>295000.0</td>\n",
       "      <td>2008.0</td>\n",
       "      <td>3648.41</td>\n",
       "      <td>6037.0</td>\n",
       "    </tr>\n",
       "    <tr>\n",
       "      <th>2152778</th>\n",
       "      <td>4.0</td>\n",
       "      <td>4.0</td>\n",
       "      <td>3035.0</td>\n",
       "      <td>600000.0</td>\n",
       "      <td>2010.0</td>\n",
       "      <td>7844.78</td>\n",
       "      <td>6037.0</td>\n",
       "    </tr>\n",
       "    <tr>\n",
       "      <th>2152846</th>\n",
       "      <td>4.0</td>\n",
       "      <td>4.0</td>\n",
       "      <td>2960.0</td>\n",
       "      <td>750000.0</td>\n",
       "      <td>2014.0</td>\n",
       "      <td>14483.13</td>\n",
       "      <td>6037.0</td>\n",
       "    </tr>\n",
       "  </tbody>\n",
       "</table>\n",
       "<p>190330 rows × 7 columns</p>\n",
       "</div>"
      ],
      "text/plain": [
       "         bedroomcnt  bathroomcnt  calculatedfinishedsquarefeet  \\\n",
       "46              4.0          4.0                        1978.0   \n",
       "50              5.0          4.5                        3207.0   \n",
       "61              3.0          2.5                        2148.0   \n",
       "84              2.0          2.0                        1304.0   \n",
       "93              3.0          1.0                        1080.0   \n",
       "...             ...          ...                           ...   \n",
       "2152721         4.0          3.0                        2567.0   \n",
       "2152736         3.0          3.5                        1744.0   \n",
       "2152760         2.0          1.0                         984.0   \n",
       "2152778         4.0          4.0                        3035.0   \n",
       "2152846         4.0          4.0                        2960.0   \n",
       "\n",
       "         taxvaluedollarcnt  yearbuilt  taxamount    fips  \n",
       "46                350000.0     2015.0    4836.07  6037.0  \n",
       "50                900000.0     2015.0   10059.28  6059.0  \n",
       "61                680000.0     1981.0    7909.14  6111.0  \n",
       "84                940000.0     1980.0   10102.92  6111.0  \n",
       "93                358000.0     1955.0    4135.12  6111.0  \n",
       "...                    ...        ...        ...     ...  \n",
       "2152721           703300.0     2009.0    8093.20  6059.0  \n",
       "2152736           498000.0     2008.0    5803.04  6059.0  \n",
       "2152760           295000.0     2008.0    3648.41  6037.0  \n",
       "2152778           600000.0     2010.0    7844.78  6037.0  \n",
       "2152846           750000.0     2014.0   14483.13  6037.0  \n",
       "\n",
       "[190330 rows x 7 columns]"
      ]
     },
     "execution_count": 30,
     "metadata": {},
     "output_type": "execute_result"
    }
   ],
   "source": [
    "# it looks like the last 00.0 on these is not happendtsnace and not a good place to clean\n",
    "df[df.taxvaluedollarcnt.astype(str).str[-4:] == '00.0']"
   ]
  },
  {
   "cell_type": "code",
   "execution_count": 44,
   "id": "418932f5",
   "metadata": {},
   "outputs": [],
   "source": [
    "# removing the top 5% and bottom 5% of the taxvaluedollarcnt\n",
    "df = df[(df['taxvaluedollarcnt'] < np.quantile(df['taxvaluedollarcnt'], .95)) & (df['taxvaluedollarcnt'] > np.quantile(df['taxvaluedollarcnt'], .05))]"
   ]
  },
  {
   "cell_type": "code",
   "execution_count": 49,
   "id": "94ba68f1",
   "metadata": {},
   "outputs": [
    {
     "data": {
      "text/html": [
       "<div>\n",
       "<style scoped>\n",
       "    .dataframe tbody tr th:only-of-type {\n",
       "        vertical-align: middle;\n",
       "    }\n",
       "\n",
       "    .dataframe tbody tr th {\n",
       "        vertical-align: top;\n",
       "    }\n",
       "\n",
       "    .dataframe thead th {\n",
       "        text-align: right;\n",
       "    }\n",
       "</style>\n",
       "<table border=\"1\" class=\"dataframe\">\n",
       "  <thead>\n",
       "    <tr style=\"text-align: right;\">\n",
       "      <th></th>\n",
       "      <th>bedroomcnt</th>\n",
       "      <th>bathroomcnt</th>\n",
       "      <th>calculatedfinishedsquarefeet</th>\n",
       "      <th>taxvaluedollarcnt</th>\n",
       "      <th>yearbuilt</th>\n",
       "      <th>taxamount</th>\n",
       "      <th>fips</th>\n",
       "    </tr>\n",
       "  </thead>\n",
       "  <tbody>\n",
       "    <tr>\n",
       "      <th>463137</th>\n",
       "      <td>3.0</td>\n",
       "      <td>2.0</td>\n",
       "      <td>1365.0</td>\n",
       "      <td>75969.0</td>\n",
       "      <td>1940.0</td>\n",
       "      <td>16.48</td>\n",
       "      <td>6111.0</td>\n",
       "    </tr>\n",
       "    <tr>\n",
       "      <th>2118845</th>\n",
       "      <td>3.0</td>\n",
       "      <td>2.0</td>\n",
       "      <td>1613.0</td>\n",
       "      <td>269517.0</td>\n",
       "      <td>1972.0</td>\n",
       "      <td>100379.34</td>\n",
       "      <td>6059.0</td>\n",
       "    </tr>\n",
       "  </tbody>\n",
       "</table>\n",
       "</div>"
      ],
      "text/plain": [
       "         bedroomcnt  bathroomcnt  calculatedfinishedsquarefeet  \\\n",
       "463137          3.0          2.0                        1365.0   \n",
       "2118845         3.0          2.0                        1613.0   \n",
       "\n",
       "         taxvaluedollarcnt  yearbuilt  taxamount    fips  \n",
       "463137             75969.0     1940.0      16.48  6111.0  \n",
       "2118845           269517.0     1972.0  100379.34  6059.0  "
      ]
     },
     "execution_count": 49,
     "metadata": {},
     "output_type": "execute_result"
    }
   ],
   "source": [
    "# the tax amount seems to be in a good place for the max and min\n",
    "df[(df.taxamount == df.taxamount.max()) | (df.taxamount == df.taxamount.min())]"
   ]
  },
  {
   "cell_type": "markdown",
   "id": "a997a48f",
   "metadata": {},
   "source": [
    "**Thoughts:**\n",
    "* I think it may be useful to do all of the chops with the entire df instead of with the widdled down df all at the same time becasue there may a cross over that happens because each time we reduce it by 10% when it can all happen at the same time likely reducing less of the dataset. While yes, there is a large dataset, I don't want to haphazardly get in the habit of chopping away at datasets when we cn retain more of it. \n"
   ]
  },
  {
   "cell_type": "code",
   "execution_count": 6,
   "id": "aacedde9",
   "metadata": {},
   "outputs": [
    {
     "ename": "NameError",
     "evalue": "name 'get_zillow_data' is not defined",
     "output_type": "error",
     "traceback": [
      "\u001b[0;31m---------------------------------------------------------------------------\u001b[0m",
      "\u001b[0;31mNameError\u001b[0m                                 Traceback (most recent call last)",
      "Input \u001b[0;32mIn [6]\u001b[0m, in \u001b[0;36m<cell line: 1>\u001b[0;34m()\u001b[0m\n\u001b[0;32m----> 1\u001b[0m df \u001b[38;5;241m=\u001b[39m \u001b[43mget_zillow_data\u001b[49m()\n\u001b[1;32m      2\u001b[0m \u001b[38;5;66;03m# df = df.dropna()\u001b[39;00m\n\u001b[1;32m      3\u001b[0m df\u001b[38;5;241m.\u001b[39mhead()\n",
      "\u001b[0;31mNameError\u001b[0m: name 'get_zillow_data' is not defined"
     ]
    }
   ],
   "source": [
    "df = get_zillow_data()\n",
    "# df = df.dropna()\n",
    "df.head()"
   ]
  },
  {
   "cell_type": "code",
   "execution_count": 84,
   "id": "9f604843",
   "metadata": {},
   "outputs": [],
   "source": [
    "# getting all the upper limits and lower limits from the original df and storing them in a dictionary\n",
    "outlier_limits = {}\n",
    "for col in df:\n",
    "    if col == 'fips':\n",
    "        pass\n",
    "    else:\n",
    "        Q1 = np.percentile(df[col], 25, interpolation = 'midpoint') \n",
    "        Q2 = np.percentile(df[col], 50, interpolation = 'midpoint') \n",
    "        Q3 = np.percentile(df[col], 75, interpolation = 'midpoint') \n",
    "        IQR = Q3 - Q1 \n",
    "        outlier_limits[col] =  {'low_limit': np.percentile(df[col], 5, interpolation = 'midpoint'), \n",
    "                      'up_limit': Q3 + 1.5 * IQR,\n",
    "                     }"
   ]
  },
  {
   "cell_type": "code",
   "execution_count": 94,
   "id": "932aa7da",
   "metadata": {},
   "outputs": [],
   "source": [
    "for col in df:\n",
    "    if col in outlier_limits:\n",
    "        df = df[(df[col] <= outlier_limits[col]['up_limit'])]\n",
    "        if col not in ['bathroomcnt', 'bedroomcnt']:\n",
    "            df = df[(df[col] >= outlier_limits[col]['low_limit'])]"
   ]
  },
  {
   "cell_type": "code",
   "execution_count": 96,
   "id": "c9981099",
   "metadata": {},
   "outputs": [
    {
     "data": {
      "text/html": [
       "<div>\n",
       "<style scoped>\n",
       "    .dataframe tbody tr th:only-of-type {\n",
       "        vertical-align: middle;\n",
       "    }\n",
       "\n",
       "    .dataframe tbody tr th {\n",
       "        vertical-align: top;\n",
       "    }\n",
       "\n",
       "    .dataframe thead th {\n",
       "        text-align: right;\n",
       "    }\n",
       "</style>\n",
       "<table border=\"1\" class=\"dataframe\">\n",
       "  <thead>\n",
       "    <tr style=\"text-align: right;\">\n",
       "      <th></th>\n",
       "      <th>bedroomcnt</th>\n",
       "      <th>bathroomcnt</th>\n",
       "      <th>calculatedfinishedsquarefeet</th>\n",
       "      <th>taxvaluedollarcnt</th>\n",
       "      <th>yearbuilt</th>\n",
       "      <th>taxamount</th>\n",
       "      <th>fips</th>\n",
       "    </tr>\n",
       "  </thead>\n",
       "  <tbody>\n",
       "    <tr>\n",
       "      <th>count</th>\n",
       "      <td>1.658269e+06</td>\n",
       "      <td>1.658269e+06</td>\n",
       "      <td>1.658269e+06</td>\n",
       "      <td>1.658269e+06</td>\n",
       "      <td>1.658269e+06</td>\n",
       "      <td>1.658269e+06</td>\n",
       "      <td>1.658269e+06</td>\n",
       "    </tr>\n",
       "    <tr>\n",
       "      <th>mean</th>\n",
       "      <td>3.310079e+00</td>\n",
       "      <td>2.183456e+00</td>\n",
       "      <td>1.761338e+03</td>\n",
       "      <td>3.696926e+05</td>\n",
       "      <td>1.963148e+03</td>\n",
       "      <td>4.557993e+03</td>\n",
       "      <td>6.049056e+03</td>\n",
       "    </tr>\n",
       "    <tr>\n",
       "      <th>std</th>\n",
       "      <td>7.673949e-01</td>\n",
       "      <td>6.939278e-01</td>\n",
       "      <td>5.789253e+02</td>\n",
       "      <td>2.103393e+05</td>\n",
       "      <td>1.890090e+01</td>\n",
       "      <td>2.378294e+03</td>\n",
       "      <td>2.081492e+01</td>\n",
       "    </tr>\n",
       "    <tr>\n",
       "      <th>min</th>\n",
       "      <td>0.000000e+00</td>\n",
       "      <td>0.000000e+00</td>\n",
       "      <td>8.890000e+02</td>\n",
       "      <td>6.264800e+04</td>\n",
       "      <td>1.923000e+03</td>\n",
       "      <td>1.002840e+03</td>\n",
       "      <td>6.037000e+03</td>\n",
       "    </tr>\n",
       "    <tr>\n",
       "      <th>25%</th>\n",
       "      <td>3.000000e+00</td>\n",
       "      <td>2.000000e+00</td>\n",
       "      <td>1.313000e+03</td>\n",
       "      <td>2.100110e+05</td>\n",
       "      <td>1.951000e+03</td>\n",
       "      <td>2.777010e+03</td>\n",
       "      <td>6.037000e+03</td>\n",
       "    </tr>\n",
       "    <tr>\n",
       "      <th>50%</th>\n",
       "      <td>3.000000e+00</td>\n",
       "      <td>2.000000e+00</td>\n",
       "      <td>1.636000e+03</td>\n",
       "      <td>3.306970e+05</td>\n",
       "      <td>1.960000e+03</td>\n",
       "      <td>4.133120e+03</td>\n",
       "      <td>6.037000e+03</td>\n",
       "    </tr>\n",
       "    <tr>\n",
       "      <th>75%</th>\n",
       "      <td>4.000000e+00</td>\n",
       "      <td>3.000000e+00</td>\n",
       "      <td>2.105000e+03</td>\n",
       "      <td>4.923950e+05</td>\n",
       "      <td>1.976000e+03</td>\n",
       "      <td>5.934760e+03</td>\n",
       "      <td>6.059000e+03</td>\n",
       "    </tr>\n",
       "    <tr>\n",
       "      <th>max</th>\n",
       "      <td>5.000000e+00</td>\n",
       "      <td>4.500000e+00</td>\n",
       "      <td>3.633000e+03</td>\n",
       "      <td>1.052753e+06</td>\n",
       "      <td>2.016000e+03</td>\n",
       "      <td>1.221853e+04</td>\n",
       "      <td>6.111000e+03</td>\n",
       "    </tr>\n",
       "  </tbody>\n",
       "</table>\n",
       "</div>"
      ],
      "text/plain": [
       "         bedroomcnt   bathroomcnt  calculatedfinishedsquarefeet  \\\n",
       "count  1.658269e+06  1.658269e+06                  1.658269e+06   \n",
       "mean   3.310079e+00  2.183456e+00                  1.761338e+03   \n",
       "std    7.673949e-01  6.939278e-01                  5.789253e+02   \n",
       "min    0.000000e+00  0.000000e+00                  8.890000e+02   \n",
       "25%    3.000000e+00  2.000000e+00                  1.313000e+03   \n",
       "50%    3.000000e+00  2.000000e+00                  1.636000e+03   \n",
       "75%    4.000000e+00  3.000000e+00                  2.105000e+03   \n",
       "max    5.000000e+00  4.500000e+00                  3.633000e+03   \n",
       "\n",
       "       taxvaluedollarcnt     yearbuilt     taxamount          fips  \n",
       "count       1.658269e+06  1.658269e+06  1.658269e+06  1.658269e+06  \n",
       "mean        3.696926e+05  1.963148e+03  4.557993e+03  6.049056e+03  \n",
       "std         2.103393e+05  1.890090e+01  2.378294e+03  2.081492e+01  \n",
       "min         6.264800e+04  1.923000e+03  1.002840e+03  6.037000e+03  \n",
       "25%         2.100110e+05  1.951000e+03  2.777010e+03  6.037000e+03  \n",
       "50%         3.306970e+05  1.960000e+03  4.133120e+03  6.037000e+03  \n",
       "75%         4.923950e+05  1.976000e+03  5.934760e+03  6.059000e+03  \n",
       "max         1.052753e+06  2.016000e+03  1.221853e+04  6.111000e+03  "
      ]
     },
     "execution_count": 96,
     "metadata": {},
     "output_type": "execute_result"
    }
   ],
   "source": [
    "# ok everything looks good for the cleaning if you ask me!,\n",
    "df.describe()"
   ]
  },
  {
   "cell_type": "code",
   "execution_count": 100,
   "id": "350e5f04",
   "metadata": {},
   "outputs": [
    {
     "data": {
      "text/html": [
       "<div>\n",
       "<style scoped>\n",
       "    .dataframe tbody tr th:only-of-type {\n",
       "        vertical-align: middle;\n",
       "    }\n",
       "\n",
       "    .dataframe tbody tr th {\n",
       "        vertical-align: top;\n",
       "    }\n",
       "\n",
       "    .dataframe thead th {\n",
       "        text-align: right;\n",
       "    }\n",
       "</style>\n",
       "<table border=\"1\" class=\"dataframe\">\n",
       "  <thead>\n",
       "    <tr style=\"text-align: right;\">\n",
       "      <th></th>\n",
       "      <th>bedroomcnt</th>\n",
       "      <th>bathroomcnt</th>\n",
       "      <th>calculatedfinishedsquarefeet</th>\n",
       "      <th>taxvaluedollarcnt</th>\n",
       "      <th>yearbuilt</th>\n",
       "      <th>taxamount</th>\n",
       "      <th>fips</th>\n",
       "    </tr>\n",
       "  </thead>\n",
       "  <tbody>\n",
       "    <tr>\n",
       "      <th>count</th>\n",
       "      <td>1.656863e+06</td>\n",
       "      <td>1.656863e+06</td>\n",
       "      <td>1.656863e+06</td>\n",
       "      <td>1.656863e+06</td>\n",
       "      <td>1.656863e+06</td>\n",
       "      <td>1.656863e+06</td>\n",
       "      <td>1.656863e+06</td>\n",
       "    </tr>\n",
       "    <tr>\n",
       "      <th>mean</th>\n",
       "      <td>3.311868e+00</td>\n",
       "      <td>2.184941e+00</td>\n",
       "      <td>1.761290e+03</td>\n",
       "      <td>3.697233e+05</td>\n",
       "      <td>1.963149e+03</td>\n",
       "      <td>4.558347e+03</td>\n",
       "      <td>6.049039e+03</td>\n",
       "    </tr>\n",
       "    <tr>\n",
       "      <th>std</th>\n",
       "      <td>7.637771e-01</td>\n",
       "      <td>6.919624e-01</td>\n",
       "      <td>5.787750e+02</td>\n",
       "      <td>2.103358e+05</td>\n",
       "      <td>1.889253e+01</td>\n",
       "      <td>2.378340e+03</td>\n",
       "      <td>2.078969e+01</td>\n",
       "    </tr>\n",
       "    <tr>\n",
       "      <th>min</th>\n",
       "      <td>1.000000e+00</td>\n",
       "      <td>5.000000e-01</td>\n",
       "      <td>8.890000e+02</td>\n",
       "      <td>6.264800e+04</td>\n",
       "      <td>1.923000e+03</td>\n",
       "      <td>1.002840e+03</td>\n",
       "      <td>6.037000e+03</td>\n",
       "    </tr>\n",
       "    <tr>\n",
       "      <th>25%</th>\n",
       "      <td>3.000000e+00</td>\n",
       "      <td>2.000000e+00</td>\n",
       "      <td>1.313000e+03</td>\n",
       "      <td>2.100150e+05</td>\n",
       "      <td>1.951000e+03</td>\n",
       "      <td>2.777360e+03</td>\n",
       "      <td>6.037000e+03</td>\n",
       "    </tr>\n",
       "    <tr>\n",
       "      <th>50%</th>\n",
       "      <td>3.000000e+00</td>\n",
       "      <td>2.000000e+00</td>\n",
       "      <td>1.636000e+03</td>\n",
       "      <td>3.307900e+05</td>\n",
       "      <td>1.960000e+03</td>\n",
       "      <td>4.133730e+03</td>\n",
       "      <td>6.037000e+03</td>\n",
       "    </tr>\n",
       "    <tr>\n",
       "      <th>75%</th>\n",
       "      <td>4.000000e+00</td>\n",
       "      <td>3.000000e+00</td>\n",
       "      <td>2.104000e+03</td>\n",
       "      <td>4.923950e+05</td>\n",
       "      <td>1.976000e+03</td>\n",
       "      <td>5.935170e+03</td>\n",
       "      <td>6.059000e+03</td>\n",
       "    </tr>\n",
       "    <tr>\n",
       "      <th>max</th>\n",
       "      <td>5.000000e+00</td>\n",
       "      <td>4.500000e+00</td>\n",
       "      <td>3.633000e+03</td>\n",
       "      <td>1.052753e+06</td>\n",
       "      <td>2.016000e+03</td>\n",
       "      <td>1.221853e+04</td>\n",
       "      <td>6.111000e+03</td>\n",
       "    </tr>\n",
       "  </tbody>\n",
       "</table>\n",
       "</div>"
      ],
      "text/plain": [
       "         bedroomcnt   bathroomcnt  calculatedfinishedsquarefeet  \\\n",
       "count  1.656863e+06  1.656863e+06                  1.656863e+06   \n",
       "mean   3.311868e+00  2.184941e+00                  1.761290e+03   \n",
       "std    7.637771e-01  6.919624e-01                  5.787750e+02   \n",
       "min    1.000000e+00  5.000000e-01                  8.890000e+02   \n",
       "25%    3.000000e+00  2.000000e+00                  1.313000e+03   \n",
       "50%    3.000000e+00  2.000000e+00                  1.636000e+03   \n",
       "75%    4.000000e+00  3.000000e+00                  2.104000e+03   \n",
       "max    5.000000e+00  4.500000e+00                  3.633000e+03   \n",
       "\n",
       "       taxvaluedollarcnt     yearbuilt     taxamount          fips  \n",
       "count       1.656863e+06  1.656863e+06  1.656863e+06  1.656863e+06  \n",
       "mean        3.697233e+05  1.963149e+03  4.558347e+03  6.049039e+03  \n",
       "std         2.103358e+05  1.889253e+01  2.378340e+03  2.078969e+01  \n",
       "min         6.264800e+04  1.923000e+03  1.002840e+03  6.037000e+03  \n",
       "25%         2.100150e+05  1.951000e+03  2.777360e+03  6.037000e+03  \n",
       "50%         3.307900e+05  1.960000e+03  4.133730e+03  6.037000e+03  \n",
       "75%         4.923950e+05  1.976000e+03  5.935170e+03  6.059000e+03  \n",
       "max         1.052753e+06  2.016000e+03  1.221853e+04  6.111000e+03  "
      ]
     },
     "execution_count": 100,
     "metadata": {},
     "output_type": "execute_result"
    }
   ],
   "source": []
  },
  {
   "cell_type": "markdown",
   "id": "7e673b2b",
   "metadata": {},
   "source": [
    "# Clean"
   ]
  },
  {
   "cell_type": "code",
   "execution_count": 5,
   "id": "7327be08",
   "metadata": {},
   "outputs": [],
   "source": [
    "import scipy.stats as stats"
   ]
  },
  {
   "cell_type": "code",
   "execution_count": 21,
   "id": "7d9c31d1",
   "metadata": {},
   "outputs": [],
   "source": [
    "def clean_data(df):\n",
    "    '''\n",
    "    Arguments: zillow df\n",
    "    Actions:\n",
    "        1. Change data types\n",
    "        2. Removes outliers\n",
    "            a. Fips is skipped\n",
    "            b. Monetary and year variables: \n",
    "                lower limit is bottom 5th percentile\n",
    "                upper limit is Q3 + (1.5*IQR)\n",
    "            c. Bedroom and Bathroom:\n",
    "                lower limit is 1\n",
    "                upper limit is Q3 + (1.5*IQR)\n",
    "        3. Drop nulls\n",
    "        4. Change column names\n",
    "    Returns: cleaned df\n",
    "    Modules:\n",
    "        1. import scipy.stats as stats\n",
    "        2. import pandas as pd\n",
    "        3. import numpy as np\n",
    "    '''\n",
    "    \n",
    "    # changing data types\n",
    "    df['fips'] = df['fips'].astype(object)\n",
    "    df['yearbuilt'] = df['yearbuilt'].astype(object)\n",
    "    \n",
    "    # remove outliers\n",
    "    # initialize dict\n",
    "    outlier_limits = {}\n",
    "    \n",
    "    # for each column in df\n",
    "    for col in df:\n",
    "        \n",
    "        # skipping fips - this is a geographic indicator \n",
    "        if df[col].dtype != 'O':\n",
    "            \n",
    "            # set quartiles\n",
    "            q1, q3 = df[col].quantile([.25, .75])\n",
    "            \n",
    "            # Set iqr \n",
    "            iqr = q3 - q1\n",
    "\n",
    "            # add to dictionary with the upper limits and lower limits\n",
    "            outlier_limits[col] =  {'low_limit_5': df[col].quantile(.05),\n",
    "                                    'low_limit':  q1 - 1.5 * iqr,\n",
    "                          'up_limit': q3 + 1.5 * iqr\n",
    "                         }\n",
    "\n",
    "    # for each cols\n",
    "    for col in df:\n",
    "        \n",
    "        # if col in the dict key\n",
    "        if col in outlier_limits:\n",
    "           \n",
    "            # remove all observations that exceed upper limit\n",
    "            df = df[(df[col] <= outlier_limits[col]['up_limit'])]\n",
    "            \n",
    "            # remove all observations that are below the lower limit\n",
    "            df = df[(df[col] >= outlier_limits[col]['low_limit'])]\n",
    "    \n",
    "    # drop nulls\n",
    "    df = df.dropna()\n",
    "    \n",
    "    # change columns names\n",
    "    df = df.rename(columns={'bedroomcnt': 'beds',\n",
    "                  'bathroomcnt': 'baths',\n",
    "                  'calculatedfinishedsquarefeet': 'square_feet',\n",
    "                  'taxvaluedollarcnt': 'tax_value',\n",
    "                   'yearbuilt': 'year_built',\n",
    "                   'taxamount': 'tax_amount'\n",
    "                  })\n",
    "    \n",
    "    # exit function with clean df\n",
    "    return df"
   ]
  },
  {
   "cell_type": "code",
   "execution_count": 17,
   "id": "0147c2c6",
   "metadata": {},
   "outputs": [],
   "source": [
    "df = get_zillow_data()"
   ]
  },
  {
   "cell_type": "code",
   "execution_count": 20,
   "id": "6e3e2745",
   "metadata": {},
   "outputs": [],
   "source": [
    "df['yearbuilt']"
   ]
  },
  {
   "cell_type": "code",
   "execution_count": 22,
   "id": "eaf8d8d0",
   "metadata": {},
   "outputs": [],
   "source": [
    "df = clean_data(get_zillow_data())"
   ]
  },
  {
   "cell_type": "code",
   "execution_count": 23,
   "id": "ab21ff97",
   "metadata": {},
   "outputs": [
    {
     "data": {
      "text/plain": [
       "(1909948, 7)"
      ]
     },
     "execution_count": 23,
     "metadata": {},
     "output_type": "execute_result"
    }
   ],
   "source": [
    "df.shape"
   ]
  },
  {
   "cell_type": "code",
   "execution_count": 98,
   "id": "f1cc7805",
   "metadata": {},
   "outputs": [
    {
     "data": {
      "text/plain": [
       "beds             0\n",
       "baths            0\n",
       "square_feet      0\n",
       "tax_value        0\n",
       "year_built     913\n",
       "tax_amount       0\n",
       "fips             0\n",
       "dtype: int64"
      ]
     },
     "execution_count": 98,
     "metadata": {},
     "output_type": "execute_result"
    }
   ],
   "source": [
    "df.isna().sum()"
   ]
  },
  {
   "cell_type": "code",
   "execution_count": 99,
   "id": "4266f546",
   "metadata": {},
   "outputs": [
    {
     "data": {
      "text/plain": [
       "(1910861, 7)"
      ]
     },
     "execution_count": 99,
     "metadata": {},
     "output_type": "execute_result"
    }
   ],
   "source": [
    "df.shape"
   ]
  },
  {
   "cell_type": "markdown",
   "id": "9bc66163",
   "metadata": {},
   "source": [
    "Outliers"
   ]
  },
  {
   "cell_type": "code",
   "execution_count": 87,
   "id": "22218540",
   "metadata": {},
   "outputs": [],
   "source": [
    "df = get_zillow_data()"
   ]
  },
  {
   "cell_type": "code",
   "execution_count": 79,
   "id": "5bd78287",
   "metadata": {},
   "outputs": [
    {
     "data": {
      "text/plain": [
       "{'bedroomcnt': {'low_limit_5': 2.0, 'low_limit': 1.5, 'up_limit': 5.5},\n",
       " 'bathroomcnt': {'low_limit_5': 1.0, 'low_limit': 0.5, 'up_limit': 4.5},\n",
       " 'calculatedfinishedsquarefeet': {'low_limit_5': 888.0,\n",
       "  'low_limit': -169.5,\n",
       "  'up_limit': 3634.5},\n",
       " 'taxvaluedollarcnt': {'low_limit_5': 61879.0,\n",
       "  'low_limit': -331364.875,\n",
       "  'up_limit': 1054062.125},\n",
       " 'taxamount': {'low_limit_5': 997.4,\n",
       "  'low_limit': -3284.0299999999993,\n",
       "  'up_limit': 12233.329999999998}}"
      ]
     },
     "execution_count": 79,
     "metadata": {},
     "output_type": "execute_result"
    }
   ],
   "source": [
    "# drop outliers\n",
    "# initialize dict\n",
    "outlier_limits = {}\n",
    "\n",
    "# for each column in df\n",
    "for col in df:\n",
    "    # skipping fips - this is a geographic indicator \n",
    "    if col in ['fips', 'yearbuilt']:\n",
    "        pass\n",
    "    # for all other columns\n",
    "    else:\n",
    "#         # get 1st quartile\n",
    "#         q1 = np.percentile(df[col], 25, interpolation = 'midpoint') \n",
    "#         # get 3rd quartile \n",
    "#         q3 = np.percentile(df[col], 75, interpolation = 'midpoint') \n",
    "\n",
    "        q1, q3 = df[col].quantile([.25, .75])\n",
    "\n",
    "        iqr = q3 - q1\n",
    "\n",
    "#         # get the inter-quartile range\n",
    "#         iqr = stats.iqr(df[col], interpolation = 'midpoint')\n",
    "\n",
    "        # add to dictionary with the upper limits and lower limits\n",
    "        outlier_limits[col] =  {'low_limit_5': df[col].quantile(.05),\n",
    "                                'low_limit':  q1 - 1.5 * iqr,\n",
    "                      'up_limit': q3 + 1.5 * iqr\n",
    "                     }\n",
    "outlier_limits"
   ]
  },
  {
   "cell_type": "code",
   "execution_count": 80,
   "id": "045b6468",
   "metadata": {},
   "outputs": [],
   "source": [
    "# for each cols\n",
    "for col in df:\n",
    "\n",
    "    # if col in the dict key\n",
    "    if col in outlier_limits:\n",
    "\n",
    "        # remove all oservations that exceed upper limit\n",
    "        df_limited = df[(df[col] < outlier_limits[col]['up_limit'])]\n",
    "\n",
    "        # remove all observations that are under the lower limit\n",
    "        df_limited = df[(df[col] > outlier_limits[col]['low_limit'])]"
   ]
  },
  {
   "cell_type": "code",
   "execution_count": 81,
   "id": "ae968089",
   "metadata": {
    "scrolled": true
   },
   "outputs": [
    {
     "data": {
      "text/plain": [
       "bedroomcnt                         2\n",
       "bathroomcnt                        2\n",
       "calculatedfinishedsquarefeet    6729\n",
       "taxvaluedollarcnt                 31\n",
       "yearbuilt                       7603\n",
       "taxamount                          0\n",
       "fips                               0\n",
       "dtype: int64"
      ]
     },
     "execution_count": 81,
     "metadata": {},
     "output_type": "execute_result"
    }
   ],
   "source": [
    "df_limited.isna().sum()"
   ]
  },
  {
   "cell_type": "code",
   "execution_count": 82,
   "id": "3a51d006",
   "metadata": {},
   "outputs": [
    {
     "data": {
      "text/plain": [
       "(2148421, 7)"
      ]
     },
     "execution_count": 82,
     "metadata": {},
     "output_type": "execute_result"
    }
   ],
   "source": [
    "df_limited.shape"
   ]
  },
  {
   "cell_type": "code",
   "execution_count": 83,
   "id": "cc6dd6b8",
   "metadata": {},
   "outputs": [
    {
     "name": "stdout",
     "output_type": "stream",
     "text": [
      "['yearbuilt']\n"
     ]
    }
   ],
   "source": [
    "missing_thresh = .004\n",
    "exclude_missing = []\n",
    "num_rows = df.shape[0]\n",
    "for c in df.columns:\n",
    "    num_missing = df[c].isna().sum()\n",
    "    missing_frac = num_missing / num_rows\n",
    "    if missing_frac > missing_thresh:\n",
    "        exclude_missing.append(c)\n",
    "print(exclude_missing)"
   ]
  },
  {
   "cell_type": "markdown",
   "id": "240e5daa",
   "metadata": {},
   "source": [
    "Null"
   ]
  },
  {
   "cell_type": "code",
   "execution_count": 159,
   "id": "52770a9e",
   "metadata": {},
   "outputs": [],
   "source": [
    "df = df.rename(columns={'bedroomcnt': 'beds',\n",
    "                  'bathroomcnt': 'baths',\n",
    "                  'calculatedfinishedsquarefeet': 'square_feet',\n",
    "                  'taxvaluedollarcnt': 'tax_value',\n",
    "                   'yearbuilt': 'year_built',\n",
    "                   'taxamount': 'tax_amount'\n",
    "                  })"
   ]
  },
  {
   "cell_type": "code",
   "execution_count": 24,
   "id": "1100ae6c",
   "metadata": {},
   "outputs": [],
   "source": [
    "df = clean_data(get_zillow_data())"
   ]
  },
  {
   "cell_type": "code",
   "execution_count": 152,
   "id": "04ab43f3",
   "metadata": {},
   "outputs": [
    {
     "data": {
      "text/html": [
       "<div>\n",
       "<style scoped>\n",
       "    .dataframe tbody tr th:only-of-type {\n",
       "        vertical-align: middle;\n",
       "    }\n",
       "\n",
       "    .dataframe tbody tr th {\n",
       "        vertical-align: top;\n",
       "    }\n",
       "\n",
       "    .dataframe thead th {\n",
       "        text-align: right;\n",
       "    }\n",
       "</style>\n",
       "<table border=\"1\" class=\"dataframe\">\n",
       "  <thead>\n",
       "    <tr style=\"text-align: right;\">\n",
       "      <th></th>\n",
       "      <th>bedroomcnt</th>\n",
       "      <th>bathroomcnt</th>\n",
       "      <th>calculatedfinishedsquarefeet</th>\n",
       "      <th>taxvaluedollarcnt</th>\n",
       "      <th>yearbuilt</th>\n",
       "      <th>taxamount</th>\n",
       "      <th>fips</th>\n",
       "    </tr>\n",
       "  </thead>\n",
       "  <tbody>\n",
       "    <tr>\n",
       "      <th>4</th>\n",
       "      <td>4.0</td>\n",
       "      <td>2.0</td>\n",
       "      <td>3633.0</td>\n",
       "      <td>296425.0</td>\n",
       "      <td>2005.0</td>\n",
       "      <td>6941.39</td>\n",
       "      <td>6037.0</td>\n",
       "    </tr>\n",
       "    <tr>\n",
       "      <th>6</th>\n",
       "      <td>3.0</td>\n",
       "      <td>4.0</td>\n",
       "      <td>1620.0</td>\n",
       "      <td>847770.0</td>\n",
       "      <td>2011.0</td>\n",
       "      <td>10244.94</td>\n",
       "      <td>6037.0</td>\n",
       "    </tr>\n",
       "    <tr>\n",
       "      <th>7</th>\n",
       "      <td>3.0</td>\n",
       "      <td>2.0</td>\n",
       "      <td>2077.0</td>\n",
       "      <td>646760.0</td>\n",
       "      <td>1926.0</td>\n",
       "      <td>7924.68</td>\n",
       "      <td>6037.0</td>\n",
       "    </tr>\n",
       "    <tr>\n",
       "      <th>18</th>\n",
       "      <td>3.0</td>\n",
       "      <td>1.0</td>\n",
       "      <td>1244.0</td>\n",
       "      <td>169471.0</td>\n",
       "      <td>1950.0</td>\n",
       "      <td>2532.88</td>\n",
       "      <td>6037.0</td>\n",
       "    </tr>\n",
       "    <tr>\n",
       "      <th>19</th>\n",
       "      <td>3.0</td>\n",
       "      <td>2.0</td>\n",
       "      <td>1300.0</td>\n",
       "      <td>233266.0</td>\n",
       "      <td>1950.0</td>\n",
       "      <td>3110.99</td>\n",
       "      <td>6037.0</td>\n",
       "    </tr>\n",
       "  </tbody>\n",
       "</table>\n",
       "</div>"
      ],
      "text/plain": [
       "    bedroomcnt  bathroomcnt  calculatedfinishedsquarefeet  taxvaluedollarcnt  \\\n",
       "4          4.0          2.0                        3633.0           296425.0   \n",
       "6          3.0          4.0                        1620.0           847770.0   \n",
       "7          3.0          2.0                        2077.0           646760.0   \n",
       "18         3.0          1.0                        1244.0           169471.0   \n",
       "19         3.0          2.0                        1300.0           233266.0   \n",
       "\n",
       "    yearbuilt  taxamount    fips  \n",
       "4      2005.0    6941.39  6037.0  \n",
       "6      2011.0   10244.94  6037.0  \n",
       "7      1926.0    7924.68  6037.0  \n",
       "18     1950.0    2532.88  6037.0  \n",
       "19     1950.0    3110.99  6037.0  "
      ]
     },
     "execution_count": 152,
     "metadata": {},
     "output_type": "execute_result"
    }
   ],
   "source": [
    "df.head()"
   ]
  },
  {
   "cell_type": "code",
   "execution_count": 130,
   "id": "1abeae0e",
   "metadata": {},
   "outputs": [
    {
     "data": {
      "text/plain": [
       "(1656862, 7)"
      ]
     },
     "execution_count": 130,
     "metadata": {},
     "output_type": "execute_result"
    }
   ],
   "source": [
    "df.shape"
   ]
  },
  {
   "cell_type": "code",
   "execution_count": 131,
   "id": "077b9a81",
   "metadata": {},
   "outputs": [
    {
     "data": {
      "text/html": [
       "<div>\n",
       "<style scoped>\n",
       "    .dataframe tbody tr th:only-of-type {\n",
       "        vertical-align: middle;\n",
       "    }\n",
       "\n",
       "    .dataframe tbody tr th {\n",
       "        vertical-align: top;\n",
       "    }\n",
       "\n",
       "    .dataframe thead th {\n",
       "        text-align: right;\n",
       "    }\n",
       "</style>\n",
       "<table border=\"1\" class=\"dataframe\">\n",
       "  <thead>\n",
       "    <tr style=\"text-align: right;\">\n",
       "      <th></th>\n",
       "      <th>bedroomcnt</th>\n",
       "      <th>bathroomcnt</th>\n",
       "      <th>calculatedfinishedsquarefeet</th>\n",
       "      <th>taxvaluedollarcnt</th>\n",
       "      <th>yearbuilt</th>\n",
       "      <th>taxamount</th>\n",
       "      <th>fips</th>\n",
       "    </tr>\n",
       "  </thead>\n",
       "  <tbody>\n",
       "    <tr>\n",
       "      <th>count</th>\n",
       "      <td>1.656862e+06</td>\n",
       "      <td>1.656862e+06</td>\n",
       "      <td>1.656862e+06</td>\n",
       "      <td>1.656862e+06</td>\n",
       "      <td>1.656862e+06</td>\n",
       "      <td>1.656862e+06</td>\n",
       "      <td>1.656862e+06</td>\n",
       "    </tr>\n",
       "    <tr>\n",
       "      <th>mean</th>\n",
       "      <td>3.311869e+00</td>\n",
       "      <td>2.184942e+00</td>\n",
       "      <td>1.761291e+03</td>\n",
       "      <td>3.697232e+05</td>\n",
       "      <td>1.963149e+03</td>\n",
       "      <td>4.558346e+03</td>\n",
       "      <td>6.049039e+03</td>\n",
       "    </tr>\n",
       "    <tr>\n",
       "      <th>std</th>\n",
       "      <td>7.637767e-01</td>\n",
       "      <td>6.919614e-01</td>\n",
       "      <td>5.787750e+02</td>\n",
       "      <td>2.103358e+05</td>\n",
       "      <td>1.889254e+01</td>\n",
       "      <td>2.378341e+03</td>\n",
       "      <td>2.078970e+01</td>\n",
       "    </tr>\n",
       "    <tr>\n",
       "      <th>min</th>\n",
       "      <td>1.000000e+00</td>\n",
       "      <td>1.000000e+00</td>\n",
       "      <td>8.890000e+02</td>\n",
       "      <td>6.264800e+04</td>\n",
       "      <td>1.923000e+03</td>\n",
       "      <td>1.002840e+03</td>\n",
       "      <td>6.037000e+03</td>\n",
       "    </tr>\n",
       "    <tr>\n",
       "      <th>25%</th>\n",
       "      <td>3.000000e+00</td>\n",
       "      <td>2.000000e+00</td>\n",
       "      <td>1.313000e+03</td>\n",
       "      <td>2.100150e+05</td>\n",
       "      <td>1.951000e+03</td>\n",
       "      <td>2.777360e+03</td>\n",
       "      <td>6.037000e+03</td>\n",
       "    </tr>\n",
       "    <tr>\n",
       "      <th>50%</th>\n",
       "      <td>3.000000e+00</td>\n",
       "      <td>2.000000e+00</td>\n",
       "      <td>1.636000e+03</td>\n",
       "      <td>3.307895e+05</td>\n",
       "      <td>1.960000e+03</td>\n",
       "      <td>4.133725e+03</td>\n",
       "      <td>6.037000e+03</td>\n",
       "    </tr>\n",
       "    <tr>\n",
       "      <th>75%</th>\n",
       "      <td>4.000000e+00</td>\n",
       "      <td>3.000000e+00</td>\n",
       "      <td>2.104000e+03</td>\n",
       "      <td>4.923950e+05</td>\n",
       "      <td>1.976000e+03</td>\n",
       "      <td>5.935170e+03</td>\n",
       "      <td>6.059000e+03</td>\n",
       "    </tr>\n",
       "    <tr>\n",
       "      <th>max</th>\n",
       "      <td>5.000000e+00</td>\n",
       "      <td>4.500000e+00</td>\n",
       "      <td>3.633000e+03</td>\n",
       "      <td>1.052753e+06</td>\n",
       "      <td>2.016000e+03</td>\n",
       "      <td>1.221853e+04</td>\n",
       "      <td>6.111000e+03</td>\n",
       "    </tr>\n",
       "  </tbody>\n",
       "</table>\n",
       "</div>"
      ],
      "text/plain": [
       "         bedroomcnt   bathroomcnt  calculatedfinishedsquarefeet  \\\n",
       "count  1.656862e+06  1.656862e+06                  1.656862e+06   \n",
       "mean   3.311869e+00  2.184942e+00                  1.761291e+03   \n",
       "std    7.637767e-01  6.919614e-01                  5.787750e+02   \n",
       "min    1.000000e+00  1.000000e+00                  8.890000e+02   \n",
       "25%    3.000000e+00  2.000000e+00                  1.313000e+03   \n",
       "50%    3.000000e+00  2.000000e+00                  1.636000e+03   \n",
       "75%    4.000000e+00  3.000000e+00                  2.104000e+03   \n",
       "max    5.000000e+00  4.500000e+00                  3.633000e+03   \n",
       "\n",
       "       taxvaluedollarcnt     yearbuilt     taxamount          fips  \n",
       "count       1.656862e+06  1.656862e+06  1.656862e+06  1.656862e+06  \n",
       "mean        3.697232e+05  1.963149e+03  4.558346e+03  6.049039e+03  \n",
       "std         2.103358e+05  1.889254e+01  2.378341e+03  2.078970e+01  \n",
       "min         6.264800e+04  1.923000e+03  1.002840e+03  6.037000e+03  \n",
       "25%         2.100150e+05  1.951000e+03  2.777360e+03  6.037000e+03  \n",
       "50%         3.307895e+05  1.960000e+03  4.133725e+03  6.037000e+03  \n",
       "75%         4.923950e+05  1.976000e+03  5.935170e+03  6.059000e+03  \n",
       "max         1.052753e+06  2.016000e+03  1.221853e+04  6.111000e+03  "
      ]
     },
     "execution_count": 131,
     "metadata": {},
     "output_type": "execute_result"
    }
   ],
   "source": [
    "df.describe()"
   ]
  },
  {
   "cell_type": "markdown",
   "id": "b2dcb8e0",
   "metadata": {},
   "source": [
    "# Splitting"
   ]
  },
  {
   "cell_type": "code",
   "execution_count": 4,
   "id": "42a2e267",
   "metadata": {},
   "outputs": [],
   "source": [
    "from sklearn.model_selection import train_test_split"
   ]
  },
  {
   "cell_type": "code",
   "execution_count": 149,
   "id": "c86a1f24",
   "metadata": {},
   "outputs": [],
   "source": [
    "def split_data(df):\n",
    "    '''\n",
    "    Arguments: clean dataframe\n",
    "    Actions: splits Dataframe into a train, validate, and test datasets for explorations\n",
    "    Returns: train, validate, and test datasets\n",
    "    Modules:\n",
    "        1. from sklearn.model_selection import train_test_split\n",
    "    '''\n",
    "    # splitting with test focus\n",
    "    train_val, test = train_test_split(df, train_size=.8, random_state=1017)\n",
    "    \n",
    "    #splitting with train/validate focus\n",
    "    train, validate = train_test_split(train_val, train_size=.7, random_state=1017)\n",
    "    \n",
    "    return train, validate, test"
   ]
  },
  {
   "cell_type": "code",
   "execution_count": 145,
   "id": "5f7ffbfb",
   "metadata": {},
   "outputs": [],
   "source": [
    "train, validate, test = split_data(df)"
   ]
  },
  {
   "cell_type": "code",
   "execution_count": 84,
   "id": "dd8158c2",
   "metadata": {},
   "outputs": [
    {
     "data": {
      "text/plain": [
       "False"
      ]
     },
     "execution_count": 84,
     "metadata": {},
     "output_type": "execute_result"
    }
   ],
   "source": [
    "train.shape[0] + validate.shape[0] + test.shape[0] == df.shape[0]"
   ]
  },
  {
   "cell_type": "code",
   "execution_count": null,
   "id": "20610e80",
   "metadata": {},
   "outputs": [],
   "source": []
  },
  {
   "cell_type": "markdown",
   "id": "63eb7673",
   "metadata": {},
   "source": [
    "# Wrangle Function"
   ]
  },
  {
   "cell_type": "code",
   "execution_count": 157,
   "id": "a3a93dce",
   "metadata": {},
   "outputs": [],
   "source": [
    "def wrangle_zillow():\n",
    "    '''\n",
    "    Arguments: none\n",
    "    Actions:\n",
    "        1. Gets zillow data\n",
    "        2. Cleans zillow data\n",
    "        3. Splits zillow data\n",
    "    Returns: train, validate, test\n",
    "    Modules: get_zillow_data, clean_data, split_data\n",
    "    '''\n",
    "    # splits cleaned data into train, validate, test\n",
    "    train, validate, test = split_data(\n",
    "        \n",
    "        # cleans data\n",
    "        clean_data(\n",
    "        \n",
    "            # retrieves data\n",
    "            get_zillow_data()))\n",
    "    \n",
    "    # exits function with wrangled data\n",
    "    return train, validate, test"
   ]
  },
  {
   "cell_type": "code",
   "execution_count": 154,
   "id": "d60fcb79",
   "metadata": {},
   "outputs": [],
   "source": [
    "train, validate, test = wrangle_zillow()"
   ]
  },
  {
   "cell_type": "code",
   "execution_count": 156,
   "id": "bee83ee9",
   "metadata": {},
   "outputs": [
    {
     "data": {
      "text/plain": [
       "(927842, 7)"
      ]
     },
     "execution_count": 156,
     "metadata": {},
     "output_type": "execute_result"
    }
   ],
   "source": [
    "train.shape"
   ]
  },
  {
   "cell_type": "markdown",
   "id": "59232a60",
   "metadata": {},
   "source": [
    "# Testing wrangle"
   ]
  },
  {
   "cell_type": "code",
   "execution_count": 1,
   "id": "9bdb911b",
   "metadata": {},
   "outputs": [],
   "source": [
    "from wrangle import wrangle_zillow"
   ]
  },
  {
   "cell_type": "code",
   "execution_count": 2,
   "id": "56546bea",
   "metadata": {},
   "outputs": [],
   "source": [
    "train, validate, test = wrangle_zillow()"
   ]
  },
  {
   "cell_type": "code",
   "execution_count": 3,
   "id": "28f15efb",
   "metadata": {},
   "outputs": [
    {
     "data": {
      "text/plain": [
       "(1069570, 458388, 381990)"
      ]
     },
     "execution_count": 3,
     "metadata": {},
     "output_type": "execute_result"
    }
   ],
   "source": [
    "train.shape[0], validate.shape[0], test.shape[0]"
   ]
  },
  {
   "cell_type": "markdown",
   "id": "56e55b0a",
   "metadata": {},
   "source": [
    "# Review"
   ]
  },
  {
   "cell_type": "code",
   "execution_count": 13,
   "id": "bb537e31",
   "metadata": {},
   "outputs": [],
   "source": [
    "df = get_zillow_data()"
   ]
  },
  {
   "cell_type": "code",
   "execution_count": 15,
   "id": "1f4493b4",
   "metadata": {},
   "outputs": [],
   "source": [
    "cols = [col for col in df.columns if col not in ['fips', 'yearbuilt']]"
   ]
  },
  {
   "cell_type": "code",
   "execution_count": 19,
   "id": "e673f790",
   "metadata": {},
   "outputs": [
    {
     "data": {
      "image/png": "[encoded data removed]",
      "text/plain": [
       "<Figure size 2000x1000 with 5 Axes>"
      ]
     },
     "metadata": {},
     "output_type": "display_data"
    }
   ],
   "source": [
    "plt.figure(figsize=(20,10))\n",
    "for i, col in enumerate(cols):\n",
    "    plot_number = i+1\n",
    "    plt.subplot(1, len(cols), plot_number)\n",
    "    plt.title(f'Distribution of {col}')\n",
    "    df[col].hist(bins=100)"
   ]
  },
  {
   "cell_type": "code",
   "execution_count": 21,
   "id": "635c9975",
   "metadata": {},
   "outputs": [
    {
     "data": {
      "text/plain": [
       "<AxesSubplot:>"
      ]
     },
     "execution_count": 21,
     "metadata": {},
     "output_type": "execute_result"
    },
    {
     "data": {
      "image/png": "[encoded data removed]",
      "text/plain": [
       "<Figure size 640x480 with 1 Axes>"
      ]
     },
     "metadata": {},
     "output_type": "display_data"
    }
   ],
   "source": [
    "sns.boxplot(data=df)"
   ]
  },
  {
   "cell_type": "code",
   "execution_count": 22,
   "id": "51c2e7ad",
   "metadata": {},
   "outputs": [
    {
     "data": {
      "image/png": "[encoded data removed]",
      "text/plain": [
       "<Figure size 2000x1000 with 5 Axes>"
      ]
     },
     "metadata": {},
     "output_type": "display_data"
    }
   ],
   "source": [
    "plt.figure(figsize=(20,10))\n",
    "for i, col in enumerate(cols):\n",
    "    plot_number = i+1\n",
    "    plt.subplot(1, len(cols), plot_number)\n",
    "    plt.title(f'Distribution of {col}')\n",
    "    sns.boxplot(data=df[col])"
   ]
  },
  {
   "cell_type": "code",
   "execution_count": 23,
   "id": "1d6fbfe9",
   "metadata": {},
   "outputs": [
    {
     "data": {
      "text/html": [
       "<div>\n",
       "<style scoped>\n",
       "    .dataframe tbody tr th:only-of-type {\n",
       "        vertical-align: middle;\n",
       "    }\n",
       "\n",
       "    .dataframe tbody tr th {\n",
       "        vertical-align: top;\n",
       "    }\n",
       "\n",
       "    .dataframe thead th {\n",
       "        text-align: right;\n",
       "    }\n",
       "</style>\n",
       "<table border=\"1\" class=\"dataframe\">\n",
       "  <thead>\n",
       "    <tr style=\"text-align: right;\">\n",
       "      <th></th>\n",
       "      <th>count</th>\n",
       "      <th>mean</th>\n",
       "      <th>std</th>\n",
       "      <th>min</th>\n",
       "      <th>25%</th>\n",
       "      <th>50%</th>\n",
       "      <th>75%</th>\n",
       "      <th>max</th>\n",
       "    </tr>\n",
       "  </thead>\n",
       "  <tbody>\n",
       "    <tr>\n",
       "      <th>bedroomcnt</th>\n",
       "      <td>2152852.0</td>\n",
       "      <td>3.287196</td>\n",
       "      <td>0.954754</td>\n",
       "      <td>0.00</td>\n",
       "      <td>3.00</td>\n",
       "      <td>3.00</td>\n",
       "      <td>4.00</td>\n",
       "      <td>25.00</td>\n",
       "    </tr>\n",
       "    <tr>\n",
       "      <th>bathroomcnt</th>\n",
       "      <td>2152852.0</td>\n",
       "      <td>2.230688</td>\n",
       "      <td>0.999280</td>\n",
       "      <td>0.00</td>\n",
       "      <td>2.00</td>\n",
       "      <td>2.00</td>\n",
       "      <td>3.00</td>\n",
       "      <td>32.00</td>\n",
       "    </tr>\n",
       "    <tr>\n",
       "      <th>calculatedfinishedsquarefeet</th>\n",
       "      <td>2144379.0</td>\n",
       "      <td>1862.855178</td>\n",
       "      <td>1222.125124</td>\n",
       "      <td>1.00</td>\n",
       "      <td>1257.00</td>\n",
       "      <td>1623.00</td>\n",
       "      <td>2208.00</td>\n",
       "      <td>952576.00</td>\n",
       "    </tr>\n",
       "    <tr>\n",
       "      <th>taxvaluedollarcnt</th>\n",
       "      <td>2152370.0</td>\n",
       "      <td>461896.237963</td>\n",
       "      <td>699676.049600</td>\n",
       "      <td>1.00</td>\n",
       "      <td>188170.25</td>\n",
       "      <td>327671.00</td>\n",
       "      <td>534527.00</td>\n",
       "      <td>98428909.00</td>\n",
       "    </tr>\n",
       "    <tr>\n",
       "      <th>yearbuilt</th>\n",
       "      <td>2143526.0</td>\n",
       "      <td>1960.949681</td>\n",
       "      <td>22.162196</td>\n",
       "      <td>1801.00</td>\n",
       "      <td>1949.00</td>\n",
       "      <td>1958.00</td>\n",
       "      <td>1976.00</td>\n",
       "      <td>2016.00</td>\n",
       "    </tr>\n",
       "    <tr>\n",
       "      <th>taxamount</th>\n",
       "      <td>2148421.0</td>\n",
       "      <td>5634.865978</td>\n",
       "      <td>8178.910249</td>\n",
       "      <td>1.85</td>\n",
       "      <td>2534.98</td>\n",
       "      <td>4108.95</td>\n",
       "      <td>6414.32</td>\n",
       "      <td>1337755.86</td>\n",
       "    </tr>\n",
       "    <tr>\n",
       "      <th>fips</th>\n",
       "      <td>2152863.0</td>\n",
       "      <td>6048.377335</td>\n",
       "      <td>20.433292</td>\n",
       "      <td>6037.00</td>\n",
       "      <td>6037.00</td>\n",
       "      <td>6037.00</td>\n",
       "      <td>6059.00</td>\n",
       "      <td>6111.00</td>\n",
       "    </tr>\n",
       "  </tbody>\n",
       "</table>\n",
       "</div>"
      ],
      "text/plain": [
       "                                  count           mean            std  \\\n",
       "bedroomcnt                    2152852.0       3.287196       0.954754   \n",
       "bathroomcnt                   2152852.0       2.230688       0.999280   \n",
       "calculatedfinishedsquarefeet  2144379.0    1862.855178    1222.125124   \n",
       "taxvaluedollarcnt             2152370.0  461896.237963  699676.049600   \n",
       "yearbuilt                     2143526.0    1960.949681      22.162196   \n",
       "taxamount                     2148421.0    5634.865978    8178.910249   \n",
       "fips                          2152863.0    6048.377335      20.433292   \n",
       "\n",
       "                                  min        25%        50%        75%  \\\n",
       "bedroomcnt                       0.00       3.00       3.00       4.00   \n",
       "bathroomcnt                      0.00       2.00       2.00       3.00   \n",
       "calculatedfinishedsquarefeet     1.00    1257.00    1623.00    2208.00   \n",
       "taxvaluedollarcnt                1.00  188170.25  327671.00  534527.00   \n",
       "yearbuilt                     1801.00    1949.00    1958.00    1976.00   \n",
       "taxamount                        1.85    2534.98    4108.95    6414.32   \n",
       "fips                          6037.00    6037.00    6037.00    6059.00   \n",
       "\n",
       "                                      max  \n",
       "bedroomcnt                          25.00  \n",
       "bathroomcnt                         32.00  \n",
       "calculatedfinishedsquarefeet    952576.00  \n",
       "taxvaluedollarcnt             98428909.00  \n",
       "yearbuilt                         2016.00  \n",
       "taxamount                      1337755.86  \n",
       "fips                              6111.00  "
      ]
     },
     "execution_count": 23,
     "metadata": {},
     "output_type": "execute_result"
    }
   ],
   "source": [
    "df.describe().T"
   ]
  }
 ],
 "metadata": {
  "kernelspec": {
   "display_name": "Python 3 (ipykernel)",
   "language": "python",
   "name": "python3"
  },
  "language_info": {
   "codemirror_mode": {
    "name": "ipython",
    "version": 3
   },
   "file_extension": ".py",
   "mimetype": "text/x-python",
   "name": "python",
   "nbconvert_exporter": "python",
   "pygments_lexer": "ipython3",
   "version": "3.9.13"
  }
 },
 "nbformat": 4,
 "nbformat_minor": 5
}
