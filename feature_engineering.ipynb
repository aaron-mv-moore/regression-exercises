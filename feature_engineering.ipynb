{
 "cells": [
  {
   "cell_type": "code",
   "execution_count": 55,
   "id": "d02bf6fa",
   "metadata": {},
   "outputs": [],
   "source": [
    "# imports\n",
    "import pandas as pd\n",
    "import numpy as np\n",
    "\n",
    "import matplotlib.pyplot as plt\n",
    "import seaborn as sns\n",
    "from pydataset import data\n",
    "\n",
    "from wrangle import split_data\n",
    "from explore import determine_variable_type\n",
    "from preprocess import scale_data\n",
    "\n",
    "from sklearn.preprocessing import MinMaxScaler\n",
    "from sklearn.feature_selection import SelectKBest, f_regression\n",
    "\n",
    "from sklearn.linear_model import LinearRegression\n",
    "from sklearn.feature_selection import RFE"
   ]
  },
  {
   "cell_type": "markdown",
   "id": "b3832024",
   "metadata": {},
   "source": [
    "1. Load the tips dataset."
   ]
  },
  {
   "cell_type": "code",
   "execution_count": 2,
   "id": "5ba73c41",
   "metadata": {},
   "outputs": [],
   "source": [
    "# importing data\n",
    "df = data('tips')"
   ]
  },
  {
   "cell_type": "code",
   "execution_count": 3,
   "id": "1f72c022",
   "metadata": {},
   "outputs": [
    {
     "data": {
      "text/html": [
       "<div>\n",
       "<style scoped>\n",
       "    .dataframe tbody tr th:only-of-type {\n",
       "        vertical-align: middle;\n",
       "    }\n",
       "\n",
       "    .dataframe tbody tr th {\n",
       "        vertical-align: top;\n",
       "    }\n",
       "\n",
       "    .dataframe thead th {\n",
       "        text-align: right;\n",
       "    }\n",
       "</style>\n",
       "<table border=\"1\" class=\"dataframe\">\n",
       "  <thead>\n",
       "    <tr style=\"text-align: right;\">\n",
       "      <th></th>\n",
       "      <th>total_bill</th>\n",
       "      <th>tip</th>\n",
       "      <th>sex</th>\n",
       "      <th>smoker</th>\n",
       "      <th>day</th>\n",
       "      <th>time</th>\n",
       "      <th>size</th>\n",
       "    </tr>\n",
       "  </thead>\n",
       "  <tbody>\n",
       "    <tr>\n",
       "      <th>1</th>\n",
       "      <td>16.99</td>\n",
       "      <td>1.01</td>\n",
       "      <td>Female</td>\n",
       "      <td>No</td>\n",
       "      <td>Sun</td>\n",
       "      <td>Dinner</td>\n",
       "      <td>2</td>\n",
       "    </tr>\n",
       "    <tr>\n",
       "      <th>2</th>\n",
       "      <td>10.34</td>\n",
       "      <td>1.66</td>\n",
       "      <td>Male</td>\n",
       "      <td>No</td>\n",
       "      <td>Sun</td>\n",
       "      <td>Dinner</td>\n",
       "      <td>3</td>\n",
       "    </tr>\n",
       "    <tr>\n",
       "      <th>3</th>\n",
       "      <td>21.01</td>\n",
       "      <td>3.50</td>\n",
       "      <td>Male</td>\n",
       "      <td>No</td>\n",
       "      <td>Sun</td>\n",
       "      <td>Dinner</td>\n",
       "      <td>3</td>\n",
       "    </tr>\n",
       "    <tr>\n",
       "      <th>4</th>\n",
       "      <td>23.68</td>\n",
       "      <td>3.31</td>\n",
       "      <td>Male</td>\n",
       "      <td>No</td>\n",
       "      <td>Sun</td>\n",
       "      <td>Dinner</td>\n",
       "      <td>2</td>\n",
       "    </tr>\n",
       "    <tr>\n",
       "      <th>5</th>\n",
       "      <td>24.59</td>\n",
       "      <td>3.61</td>\n",
       "      <td>Female</td>\n",
       "      <td>No</td>\n",
       "      <td>Sun</td>\n",
       "      <td>Dinner</td>\n",
       "      <td>4</td>\n",
       "    </tr>\n",
       "  </tbody>\n",
       "</table>\n",
       "</div>"
      ],
      "text/plain": [
       "   total_bill   tip     sex smoker  day    time  size\n",
       "1       16.99  1.01  Female     No  Sun  Dinner     2\n",
       "2       10.34  1.66    Male     No  Sun  Dinner     3\n",
       "3       21.01  3.50    Male     No  Sun  Dinner     3\n",
       "4       23.68  3.31    Male     No  Sun  Dinner     2\n",
       "5       24.59  3.61  Female     No  Sun  Dinner     4"
      ]
     },
     "execution_count": 3,
     "metadata": {},
     "output_type": "execute_result"
    }
   ],
   "source": [
    "# checking the top 5\n",
    "df.head()"
   ]
  },
  {
   "cell_type": "code",
   "execution_count": 4,
   "id": "2200cd63",
   "metadata": {},
   "outputs": [
    {
     "data": {
      "text/plain": [
       "(244, 7)"
      ]
     },
     "execution_count": 4,
     "metadata": {},
     "output_type": "execute_result"
    }
   ],
   "source": [
    "df.shape"
   ]
  },
  {
   "cell_type": "markdown",
   "id": "a842c2ce",
   "metadata": {},
   "source": [
    "> a. Create a column named price_per_person. This should be the total bill divided by the party size."
   ]
  },
  {
   "cell_type": "code",
   "execution_count": 5,
   "id": "51b32a18",
   "metadata": {},
   "outputs": [],
   "source": [
    "df['price_per_person'] = df['total_bill'] / df['size']"
   ]
  },
  {
   "cell_type": "markdown",
   "id": "c2c48225",
   "metadata": {},
   "source": [
    "> b. Before using any of the methods discussed in the lesson, which features do you think would be most important for predicting the tip amount?"
   ]
  },
  {
   "cell_type": "code",
   "execution_count": 6,
   "id": "61691d90",
   "metadata": {},
   "outputs": [],
   "source": [
    "# I think the total bill and time will be most important"
   ]
  },
  {
   "cell_type": "markdown",
   "id": "638f9123",
   "metadata": {},
   "source": [
    "> c. Use select k best to select the top 2 features for predicting tip amount. What are they?"
   ]
  },
  {
   "cell_type": "code",
   "execution_count": 7,
   "id": "efb1e45b",
   "metadata": {},
   "outputs": [],
   "source": [
    "# setting the target\n",
    "target = 'tip'"
   ]
  },
  {
   "cell_type": "code",
   "execution_count": 12,
   "id": "0bf11f86",
   "metadata": {},
   "outputs": [
    {
     "data": {
      "text/plain": [
       "1      1.01\n",
       "2      1.66\n",
       "3      3.50\n",
       "4      3.31\n",
       "5      3.61\n",
       "       ... \n",
       "240    5.92\n",
       "241    2.00\n",
       "242    2.00\n",
       "243    1.75\n",
       "244    3.00\n",
       "Name: tip, Length: 244, dtype: float64"
      ]
     },
     "execution_count": 12,
     "metadata": {},
     "output_type": "execute_result"
    }
   ],
   "source": [
    "# double check\n",
    "df[target]"
   ]
  },
  {
   "cell_type": "code",
   "execution_count": 40,
   "id": "cdd1553a",
   "metadata": {},
   "outputs": [],
   "source": [
    "# get different variable types\n",
    "explore_cols, cat_cols, num_cols = determine_variable_type(df)"
   ]
  },
  {
   "cell_type": "code",
   "execution_count": 9,
   "id": "4407a838",
   "metadata": {},
   "outputs": [],
   "source": [
    "# split data\n",
    "train, validate, test = split_data(df)"
   ]
  },
  {
   "cell_type": "markdown",
   "id": "8cc96ce2",
   "metadata": {},
   "source": [
    ">**Preprocessing:** X, y"
   ]
  },
  {
   "cell_type": "code",
   "execution_count": 13,
   "id": "67713de3",
   "metadata": {},
   "outputs": [],
   "source": [
    "# getting y's\n",
    "y_train, y_validate, y_test = train[target], validate[target], test[target]"
   ]
  },
  {
   "cell_type": "code",
   "execution_count": 20,
   "id": "d97eacf9",
   "metadata": {},
   "outputs": [
    {
     "data": {
      "text/plain": [
       "True"
      ]
     },
     "execution_count": 20,
     "metadata": {},
     "output_type": "execute_result"
    }
   ],
   "source": [
    "# testing\n",
    "y_train.shape[0] + y_validate.shape[0] + y_test.shape[0] == df.shape[0]"
   ]
  },
  {
   "cell_type": "code",
   "execution_count": 14,
   "id": "1ca1e0c9",
   "metadata": {},
   "outputs": [],
   "source": [
    "# getting X's\n",
    "X_train, X_validate, X_test = train.drop(columns=target), validate.drop(columns=target), test.drop(columns=target),"
   ]
  },
  {
   "cell_type": "code",
   "execution_count": 21,
   "id": "641105e7",
   "metadata": {},
   "outputs": [
    {
     "data": {
      "text/plain": [
       "True"
      ]
     },
     "execution_count": 21,
     "metadata": {},
     "output_type": "execute_result"
    }
   ],
   "source": [
    "# testing\n",
    "X_train.shape[0] + X_validate.shape[0] + X_test.shape[0] == df.shape[0]"
   ]
  },
  {
   "cell_type": "markdown",
   "id": "4dea793b",
   "metadata": {},
   "source": [
    ">**Preprocessing:** scaling continuous cols"
   ]
  },
  {
   "cell_type": "code",
   "execution_count": 41,
   "id": "f96ae3d6",
   "metadata": {},
   "outputs": [
    {
     "data": {
      "text/plain": [
       "['total_bill', 'tip', 'size', 'price_per_person']"
      ]
     },
     "execution_count": 41,
     "metadata": {},
     "output_type": "execute_result"
    }
   ],
   "source": [
    "# inspecting - will remove size\n",
    "num_cols"
   ]
  },
  {
   "cell_type": "code",
   "execution_count": 42,
   "id": "2af67138",
   "metadata": {},
   "outputs": [],
   "source": [
    "# removing size an tip\n",
    "num_cols.remove('tip')"
   ]
  },
  {
   "cell_type": "code",
   "execution_count": 43,
   "id": "8e3e153a",
   "metadata": {},
   "outputs": [],
   "source": [
    "# scaling data\n",
    "X_train_scaled, X_validate_scaled, X_test_scaled = scale_data(X_train, num_cols, 'minmax', X_validate, X_test )"
   ]
  },
  {
   "cell_type": "markdown",
   "id": "98ebaa2b",
   "metadata": {},
   "source": [
    ">**Preprocessing:** feature selection"
   ]
  },
  {
   "cell_type": "code",
   "execution_count": 44,
   "id": "6cc1b599",
   "metadata": {},
   "outputs": [],
   "source": [
    "# initialize the object with specified parameters\n",
    "f_selector = SelectKBest(f_regression, k=2)"
   ]
  },
  {
   "cell_type": "code",
   "execution_count": 45,
   "id": "c47ccaea",
   "metadata": {},
   "outputs": [
    {
     "data": {
      "text/html": [
       "<style>#sk-container-id-2 {color: black;background-color: white;}#sk-container-id-2 pre{padding: 0;}#sk-container-id-2 div.sk-toggleable {background-color: white;}#sk-container-id-2 label.sk-toggleable__label {cursor: pointer;display: block;width: 100%;margin-bottom: 0;padding: 0.3em;box-sizing: border-box;text-align: center;}#sk-container-id-2 label.sk-toggleable__label-arrow:before {content: \"▸\";float: left;margin-right: 0.25em;color: #696969;}#sk-container-id-2 label.sk-toggleable__label-arrow:hover:before {color: black;}#sk-container-id-2 div.sk-estimator:hover label.sk-toggleable__label-arrow:before {color: black;}#sk-container-id-2 div.sk-toggleable__content {max-height: 0;max-width: 0;overflow: hidden;text-align: left;background-color: #f0f8ff;}#sk-container-id-2 div.sk-toggleable__content pre {margin: 0.2em;color: black;border-radius: 0.25em;background-color: #f0f8ff;}#sk-container-id-2 input.sk-toggleable__control:checked~div.sk-toggleable__content {max-height: 200px;max-width: 100%;overflow: auto;}#sk-container-id-2 input.sk-toggleable__control:checked~label.sk-toggleable__label-arrow:before {content: \"▾\";}#sk-container-id-2 div.sk-estimator input.sk-toggleable__control:checked~label.sk-toggleable__label {background-color: #d4ebff;}#sk-container-id-2 div.sk-label input.sk-toggleable__control:checked~label.sk-toggleable__label {background-color: #d4ebff;}#sk-container-id-2 input.sk-hidden--visually {border: 0;clip: rect(1px 1px 1px 1px);clip: rect(1px, 1px, 1px, 1px);height: 1px;margin: -1px;overflow: hidden;padding: 0;position: absolute;width: 1px;}#sk-container-id-2 div.sk-estimator {font-family: monospace;background-color: #f0f8ff;border: 1px dotted black;border-radius: 0.25em;box-sizing: border-box;margin-bottom: 0.5em;}#sk-container-id-2 div.sk-estimator:hover {background-color: #d4ebff;}#sk-container-id-2 div.sk-parallel-item::after {content: \"\";width: 100%;border-bottom: 1px solid gray;flex-grow: 1;}#sk-container-id-2 div.sk-label:hover label.sk-toggleable__label {background-color: #d4ebff;}#sk-container-id-2 div.sk-serial::before {content: \"\";position: absolute;border-left: 1px solid gray;box-sizing: border-box;top: 0;bottom: 0;left: 50%;z-index: 0;}#sk-container-id-2 div.sk-serial {display: flex;flex-direction: column;align-items: center;background-color: white;padding-right: 0.2em;padding-left: 0.2em;position: relative;}#sk-container-id-2 div.sk-item {position: relative;z-index: 1;}#sk-container-id-2 div.sk-parallel {display: flex;align-items: stretch;justify-content: center;background-color: white;position: relative;}#sk-container-id-2 div.sk-item::before, #sk-container-id-2 div.sk-parallel-item::before {content: \"\";position: absolute;border-left: 1px solid gray;box-sizing: border-box;top: 0;bottom: 0;left: 50%;z-index: -1;}#sk-container-id-2 div.sk-parallel-item {display: flex;flex-direction: column;z-index: 1;position: relative;background-color: white;}#sk-container-id-2 div.sk-parallel-item:first-child::after {align-self: flex-end;width: 50%;}#sk-container-id-2 div.sk-parallel-item:last-child::after {align-self: flex-start;width: 50%;}#sk-container-id-2 div.sk-parallel-item:only-child::after {width: 0;}#sk-container-id-2 div.sk-dashed-wrapped {border: 1px dashed gray;margin: 0 0.4em 0.5em 0.4em;box-sizing: border-box;padding-bottom: 0.4em;background-color: white;}#sk-container-id-2 div.sk-label label {font-family: monospace;font-weight: bold;display: inline-block;line-height: 1.2em;}#sk-container-id-2 div.sk-label-container {text-align: center;}#sk-container-id-2 div.sk-container {/* jupyter's `normalize.less` sets `[hidden] { display: none; }` but bootstrap.min.css set `[hidden] { display: none !important; }` so we also need the `!important` here to be able to override the default hidden behavior on the sphinx rendered scikit-learn.org. See: https://github.com/scikit-learn/scikit-learn/issues/21755 */display: inline-block !important;position: relative;}#sk-container-id-2 div.sk-text-repr-fallback {display: none;}</style><div id=\"sk-container-id-2\" class=\"sk-top-container\"><div class=\"sk-text-repr-fallback\"><pre>SelectKBest(k=2, score_func=&lt;function f_regression at 0x137042e50&gt;)</pre><b>In a Jupyter environment, please rerun this cell to show the HTML representation or trust the notebook. <br />On GitHub, the HTML representation is unable to render, please try loading this page with nbviewer.org.</b></div><div class=\"sk-container\" hidden><div class=\"sk-item\"><div class=\"sk-estimator sk-toggleable\"><input class=\"sk-toggleable__control sk-hidden--visually\" id=\"sk-estimator-id-2\" type=\"checkbox\" checked><label for=\"sk-estimator-id-2\" class=\"sk-toggleable__label sk-toggleable__label-arrow\">SelectKBest</label><div class=\"sk-toggleable__content\"><pre>SelectKBest(k=2, score_func=&lt;function f_regression at 0x137042e50&gt;)</pre></div></div></div></div></div>"
      ],
      "text/plain": [
       "SelectKBest(k=2, score_func=<function f_regression at 0x137042e50>)"
      ]
     },
     "execution_count": 45,
     "metadata": {},
     "output_type": "execute_result"
    }
   ],
   "source": [
    "# fitting the object\n",
    "f_selector.fit(X_train_scaled, y_train)"
   ]
  },
  {
   "cell_type": "code",
   "execution_count": null,
   "id": "1dc949f6",
   "metadata": {},
   "outputs": [],
   "source": [
    "# reducing to the k best features\n",
    "X_reduced = f_selector.transform(X_train_scaled)"
   ]
  },
  {
   "cell_type": "code",
   "execution_count": 48,
   "id": "f3b018e5",
   "metadata": {},
   "outputs": [
    {
     "data": {
      "text/plain": [
       "(136, 2)"
      ]
     },
     "execution_count": 48,
     "metadata": {},
     "output_type": "execute_result"
    }
   ],
   "source": [
    "# checking the shape\n",
    "X_reduced.shape"
   ]
  },
  {
   "cell_type": "code",
   "execution_count": 51,
   "id": "2048a730",
   "metadata": {},
   "outputs": [],
   "source": [
    "# getting feature mask\n",
    "f_support = f_selector.get_support()"
   ]
  },
  {
   "cell_type": "code",
   "execution_count": 52,
   "id": "bd6f5d0d",
   "metadata": {},
   "outputs": [],
   "source": [
    "# getting features\n",
    "f_features = X_train_scaled.loc[:,f_support].columns.to_list()"
   ]
  },
  {
   "cell_type": "code",
   "execution_count": 54,
   "id": "7d6b083c",
   "metadata": {},
   "outputs": [
    {
     "name": "stdout",
     "output_type": "stream",
     "text": [
      "['total_bill', 'size']\n"
     ]
    }
   ],
   "source": [
    "# the two continuous features with the most importance for the \n",
    "print(f_features)"
   ]
  },
  {
   "cell_type": "markdown",
   "id": "d9b9ce5e",
   "metadata": {},
   "source": [
    "> d. Use recursive feature elimination to select the top 2 features for tip amount. What are they?"
   ]
  },
  {
   "cell_type": "code",
   "execution_count": 56,
   "id": "034079dc",
   "metadata": {},
   "outputs": [],
   "source": [
    "# initialize LR object\n",
    "lm = LinearRegression()"
   ]
  },
  {
   "cell_type": "code",
   "execution_count": 57,
   "id": "6734fca2",
   "metadata": {},
   "outputs": [],
   "source": [
    "# initialize RFE object\n",
    "rfe = RFE(lm, n_features_to_select=2)"
   ]
  },
  {
   "cell_type": "code",
   "execution_count": 58,
   "id": "879f58a3",
   "metadata": {},
   "outputs": [],
   "source": [
    "# fitting and transforming data\n",
    "X_rfe = rfe.fit_transform(X_train_scaled, y_train)"
   ]
  },
  {
   "cell_type": "code",
   "execution_count": 59,
   "id": "df48e2e6",
   "metadata": {},
   "outputs": [],
   "source": [
    "# getting mask\n",
    "rfe_support = rfe.get_support()"
   ]
  },
  {
   "cell_type": "code",
   "execution_count": 60,
   "id": "94b8382c",
   "metadata": {},
   "outputs": [],
   "source": [
    "# getting features\n",
    "rfe_features = X_train_scaled.loc[:,rfe_support].columns.to_list()"
   ]
  },
  {
   "cell_type": "code",
   "execution_count": 61,
   "id": "607923dc",
   "metadata": {},
   "outputs": [
    {
     "data": {
      "text/plain": [
       "['total_bill', 'size']"
      ]
     },
     "execution_count": 61,
     "metadata": {},
     "output_type": "execute_result"
    }
   ],
   "source": [
    "# the two features are the best \n",
    "rfe_features"
   ]
  },
  {
   "cell_type": "markdown",
   "id": "24e6b4bf",
   "metadata": {},
   "source": [
    "> e. Why do you think select k best and recursive feature elimination might give different answers for the top features? Does this change as you change the number of features you are selecting?"
   ]
  },
  {
   "cell_type": "markdown",
   "id": "b17aa900",
   "metadata": {},
   "source": [
    "I think its becasue they sue differrent metrics to evaluate which features stay. The difference in metrics of evaluation will impact which will be selected "
   ]
  },
  {
   "cell_type": "markdown",
   "id": "dcbcd9f2",
   "metadata": {},
   "source": [
    "Write a function named select_kbest that takes in the predictors (X), the target (y), and the number of features to select (k) and returns the names of the top k selected features based on the SelectKBest class. Test your function with the tips dataset. You should see the same results as when you did the process manually."
   ]
  },
  {
   "cell_type": "code",
   "execution_count": 62,
   "id": "8373a5e2",
   "metadata": {},
   "outputs": [],
   "source": [
    "X_train[[f'{i}_scaled' for i in num_cols]] = MinMaxScaler().fit_transform(X_train[num_cols])"
   ]
  },
  {
   "cell_type": "code",
   "execution_count": 63,
   "id": "b7c1afeb",
   "metadata": {},
   "outputs": [],
   "source": [
    "X_train = pd.concat([X_train, pd.get_dummies(X_train[cat_cols], drop_first=True)], axis=1)"
   ]
  },
  {
   "cell_type": "markdown",
   "id": "26f79f02",
   "metadata": {},
   "source": [
    "Write a function named rfe that takes in the predictors, the target, and the number of features to select. It should return the top k features based on the RFE class. Test your function with the tips dataset. You should see the same results as when you did the process manually."
   ]
  },
  {
   "cell_type": "code",
   "execution_count": null,
   "id": "2ca94408",
   "metadata": {},
   "outputs": [],
   "source": [
    "def select_kbeat(X, y, k=2):\n",
    "    '''\n",
    "    Arguments:\n",
    "        X: dataframe of independent features\n",
    "        y: singles pandas Series (the target)\n",
    "        k: kwarg, a number of kbest features to select\n",
    "    Actions\n",
    "    Returns:\n",
    "    Modules:\n",
    "    \n",
    "    '''\n",
    "    \n",
    "    kbest = SelectKBest(f_regression, k=k)\n",
    "    \n",
    "    kbest.fit(X, y)\n",
    "    \n",
    "    mask = kbest.get_support()\n",
    "    \n",
    "    return X.columns[mask]"
   ]
  },
  {
   "cell_type": "markdown",
   "id": "bce7c1a2",
   "metadata": {},
   "source": [
    "Load the swiss dataset and use all the other features to predict Fertility. Find the top 3 features using both select k best and recursive feature elimination (use the functions you just built to help you out)."
   ]
  },
  {
   "cell_type": "code",
   "execution_count": null,
   "id": "a447b376",
   "metadata": {},
   "outputs": [],
   "source": [
    "def rfe(X, y, k=2):\n",
    "    '''\n",
    "    Arguments:\n",
    "        X: dataframe of independent features\n",
    "        y: singles pandas Series (the target)\n",
    "        k: kwarg, a number of best recursive features to select\n",
    "    Actions\n",
    "    Returns:\n",
    "    Modules:\n",
    "    \n",
    "    '''\n",
    "    \n",
    "    model = linreg()\n",
    "    \n",
    "    rfe_lin = RFE(model, n_features_to_select=k)\n",
    "    \n",
    "    ref_lin.fit(X, y)\n",
    "    \n",
    "    mask = rfe_lin.get_support()\n",
    "    \n",
    "    return X.columns[mask]"
   ]
  },
  {
   "cell_type": "markdown",
   "id": "4a125f3a",
   "metadata": {},
   "source": [
    "#### Actions: \n",
    "* In preprocessing add a function that takes in the train, validate, test and returns the X_train, y_train, et."
   ]
  }
 ],
 "metadata": {
  "kernelspec": {
   "display_name": "Python 3 (ipykernel)",
   "language": "python",
   "name": "python3"
  },
  "language_info": {
   "codemirror_mode": {
    "name": "ipython",
    "version": 3
   },
   "file_extension": ".py",
   "mimetype": "text/x-python",
   "name": "python",
   "nbconvert_exporter": "python",
   "pygments_lexer": "ipython3",
   "version": "3.9.13"
  }
 },
 "nbformat": 4,
 "nbformat_minor": 5
}
